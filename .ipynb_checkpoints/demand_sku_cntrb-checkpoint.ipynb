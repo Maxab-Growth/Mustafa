{
 "cells": [
  {
   "cell_type": "code",
   "execution_count": 2,
   "id": "3fd21c36-2317-4e2f-aa57-d0d28e0dc860",
   "metadata": {
    "tags": []
   },
   "outputs": [
    {
     "name": "stderr",
     "output_type": "stream",
     "text": [
      "/home/ec2-user/anaconda3/envs/python3/lib/python3.10/site-packages/pandas/core/computation/expressions.py:21: UserWarning: Pandas requires version '2.8.4' or newer of 'numexpr' (version '2.7.3' currently installed).\n",
      "  from pandas.core.computation.check import NUMEXPR_INSTALLED\n"
     ]
    },
    {
     "name": "stdout",
     "output_type": "stream",
     "text": [
      "/home/ec2-user/.Renviron\n",
      "/home/ec2-user/service_account_key.json\n"
     ]
    }
   ],
   "source": [
    "import pandas as pd\n",
    "import numpy as np\n",
    "from tqdm import tqdm\n",
    "import json\n",
    "import gspread\n",
    "from datetime import date, timedelta\n",
    "from oauth2client.service_account import ServiceAccountCredentials\n",
    "import setup_environment_2\n",
    "import importlib\n",
    "import import_ipynb\n",
    "import warnings\n",
    "warnings.filterwarnings(\"ignore\")\n",
    "importlib.reload(setup_environment_2)\n",
    "setup_environment_2.initialize_env()"
   ]
  },
  {
   "cell_type": "code",
   "execution_count": 3,
   "id": "ac4203c5-aa01-4a0d-9927-80d6821590c0",
   "metadata": {
    "tags": []
   },
   "outputs": [],
   "source": [
    "def query_snowflake(query, columns=[]):\n",
    "    import os\n",
    "    import snowflake.connector\n",
    "    import numpy as np\n",
    "    import pandas as pd\n",
    "    con = snowflake.connector.connect(\n",
    "        user =  os.environ[\"SNOWFLAKE_USERNAME\"],\n",
    "        account= os.environ[\"SNOWFLAKE_ACCOUNT\"],\n",
    "        password= os.environ[\"SNOWFLAKE_PASSWORD\"],\n",
    "        database =os.environ[\"SNOWFLAKE_DATABASE\"]\n",
    "    )\n",
    "    try:\n",
    "        cur = con.cursor()\n",
    "        cur.execute(\"USE WAREHOUSE COMPUTE_WH\")\n",
    "        cur.execute(query)\n",
    "        if len(columns) == 0:\n",
    "            out = pd.DataFrame(np.array(cur.fetchall()))\n",
    "        else:\n",
    "            out = pd.DataFrame(np.array(cur.fetchall()),columns=columns)\n",
    "        return out\n",
    "    except Exception as e:\n",
    "        print(\"Error: \", e)\n",
    "    finally:\n",
    "        cur.close()\n",
    "        con.close()"
   ]
  },
  {
   "cell_type": "code",
   "execution_count": 4,
   "id": "81c20d80-0ea0-46cb-8987-bbe69ce4bd53",
   "metadata": {
    "tags": []
   },
   "outputs": [],
   "source": [
    "command_string = '''\n",
    "SELECT  sales_orders.created_at::date AS created_at,\n",
    "                CASE WHEN regions.name_en = 'Greater Cairo' THEN cities.name_en\n",
    "                    ELSE regions.name_en\n",
    "                END AS region,\n",
    "                products.brand_id,\n",
    "\t\t\t\tcategories.id as cat_id,\n",
    "                product_sales_order.product_id,\n",
    "                SUM(product_sales_order.purchased_item_count * basic_unit_count) AS units,\n",
    "                SUM(product_sales_order.total_price) AS nmv\n",
    "\n",
    "        FROM sales_orders\n",
    "        JOIN retailers ON retailers.id = sales_orders.retailer_id\n",
    "        JOIN product_sales_order ON product_sales_order.sales_order_id = sales_orders.id\n",
    "        JOIN materialized_views.retailer_polygon ON retailer_polygon.retailer_id = retailers.id\n",
    "        JOIN districts ON districts.id = retailer_polygon.district_id\n",
    "        JOIN cities ON cities.id = districts.city_id\n",
    "        JOIN states ON states.id = cities.state_id\n",
    "        JOIN regions ON regions.id = states.region_id\n",
    "        JOIN products ON products.id = product_sales_order.product_id\n",
    "        JOIN brands ON brands.id = products.brand_id\n",
    "\t\tJOIN categories ON categories.id = products.category_id\n",
    "\n",
    "        WHERE sales_orders.created_at::date BETWEEN current_date - INTERVAL '47 Days' AND current_date-1 \n",
    "        AND (sales_orders.sales_order_status_id NOT IN (7,12))\n",
    "        AND retailers.is_market_type_private = false\n",
    "        AND retailers.id != 42031\n",
    "        GROUP BY all\n",
    "        \n",
    "'''\n",
    "columns = ['created_at', 'region', 'brand_id','cat_id', 'product_id', 'units', 'nmv']\n",
    "sku_cont_sales_main_df = query_snowflake(command_string, columns)\n",
    "sku_cont_sales_main_df.created_at = pd.to_datetime(sku_cont_sales_main_df.created_at)\n",
    "sku_cont_sales_main_df.brand_id = pd.to_numeric(sku_cont_sales_main_df.brand_id)\n",
    "sku_cont_sales_main_df.cat_id = pd.to_numeric(sku_cont_sales_main_df.cat_id)\n",
    "sku_cont_sales_main_df.product_id = pd.to_numeric(sku_cont_sales_main_df.product_id)\n",
    "sku_cont_sales_main_df.units = pd.to_numeric(sku_cont_sales_main_df.units)\n",
    "sku_cont_sales_main_df.nmv = pd.to_numeric(sku_cont_sales_main_df.nmv)"
   ]
  },
  {
   "cell_type": "code",
   "execution_count": 5,
   "id": "4fb3f1fd-e27a-4c2b-a8b6-df6f1066c4b0",
   "metadata": {
    "tags": []
   },
   "outputs": [],
   "source": [
    "today = pd.Timestamp.today().date()\n",
    "today_minus_3 = pd.Timestamp.today().date() - timedelta(days=4)\n",
    "today_minus_7 = pd.Timestamp.today().date() - timedelta(days=8)\n",
    "today_minus_14 = pd.Timestamp.today().date() - timedelta(days=15)\n",
    "today_minus_21 = pd.Timestamp.today().date() - timedelta(days=22)\n",
    "today_minus_35 = pd.Timestamp.today().date() -timedelta(days=36)\n",
    "today_minus_45 = pd.Timestamp.today().date() -timedelta(days=46)"
   ]
  },
  {
   "cell_type": "code",
   "execution_count": 6,
   "id": "d990b9a9-ef87-483d-8f4a-937dcc082135",
   "metadata": {
    "tags": []
   },
   "outputs": [],
   "source": [
    "def calculate_contribution(data, start_date):\n",
    "    sales = data.loc[data.created_at >= str(start_date)].copy()\n",
    "    sales = sales.groupby(['region','brand_id','cat_id', 'product_id']).nmv.sum().reset_index()\n",
    "    sales['total_sales'] = sales.groupby(['region','cat_id','brand_id']).nmv.transform(sum)\n",
    "    sales[f'contribution_{(pd.Timestamp.today().date() - timedelta(days=1) - start_date).days}'] = sales['nmv'] / sales['total_sales']\n",
    "    return sales[['region', 'brand_id','cat_id', 'product_id', f'contribution_{(pd.Timestamp.today().date() - timedelta(days=1) - start_date).days}']]\n"
   ]
  },
  {
   "cell_type": "code",
   "execution_count": 7,
   "id": "bc566737-349a-4fb4-b529-cbcc21c6c1af",
   "metadata": {
    "tags": []
   },
   "outputs": [],
   "source": [
    "sales_3 = calculate_contribution(sku_cont_sales_main_df, today_minus_3)\n",
    "sales_7 = calculate_contribution(sku_cont_sales_main_df, today_minus_7)\n",
    "sales_14 = calculate_contribution(sku_cont_sales_main_df, today_minus_14)\n",
    "sales_21 = calculate_contribution(sku_cont_sales_main_df, today_minus_21)\n",
    "sales_35 = calculate_contribution(sku_cont_sales_main_df, today_minus_35)\n",
    "sales_45 = calculate_contribution(sku_cont_sales_main_df, today_minus_45)"
   ]
  },
  {
   "cell_type": "code",
   "execution_count": 8,
   "id": "d9ac5595-db86-499e-abb4-63a54fc37bf0",
   "metadata": {
    "tags": []
   },
   "outputs": [],
   "source": [
    "sku_cont_sales_data = sales_3.merge(sales_7, how='outer', on=['region',  'brand_id','cat_id', 'product_id']).merge(\n",
    "                      sales_14, how='outer', on=['region', 'brand_id','cat_id', 'product_id']).merge(\n",
    "                      sales_21, how='outer', on=['region', 'brand_id','cat_id', 'product_id']).merge(\n",
    "                      sales_35, how='outer', on=['region',  'brand_id','cat_id', 'product_id']).merge(\n",
    "                      sales_45, how='outer', on=['region',  'brand_id','cat_id', 'product_id']).fillna(0)\n",
    "\n",
    "# Adjust contributions for missing data\n",
    "sku_cont_sales_data.loc[sku_cont_sales_data['contribution_35'] == 0, 'contribution_35'] = sku_cont_sales_data['contribution_45']\n",
    "sku_cont_sales_data.loc[sku_cont_sales_data['contribution_21'] == 0, 'contribution_21'] = sku_cont_sales_data['contribution_35']\n",
    "sku_cont_sales_data.loc[sku_cont_sales_data['contribution_14'] == 0, 'contribution_14'] = sku_cont_sales_data['contribution_21']\n",
    "sku_cont_sales_data.loc[sku_cont_sales_data['contribution_7'] == 0, 'contribution_7'] = sku_cont_sales_data['contribution_14']\n",
    "sku_cont_sales_data.loc[sku_cont_sales_data['contribution_3'] == 0, 'contribution_3'] = sku_cont_sales_data['contribution_7']"
   ]
  },
  {
   "cell_type": "code",
   "execution_count": 9,
   "id": "977cf6c6-612d-417c-a879-9a7d5473a44c",
   "metadata": {
    "tags": []
   },
   "outputs": [],
   "source": [
    "command_string = '''\n",
    "\n",
    "  SELECT DISTINCT\n",
    "  CASE\n",
    "    WHEN regions.id = 2 THEN cities.name_en\n",
    "    ELSE regions.name_en\n",
    "  END AS region,\n",
    "  so.created_at::DATE AS DAY,\n",
    "  pso.product_id,\n",
    "  sum(pso.purchased_item_count * pso.basic_unit_count) AS qty\n",
    "FROM\n",
    "  product_sales_order pso\n",
    "  JOIN sales_orders so ON so.id = pso.sales_order_id\n",
    "  JOIN products ON products.id = pso.product_id\n",
    "  JOIN brands ON products.brand_id = brands.id\n",
    "  JOIN categories ON products.category_id = categories.id\n",
    "  JOIN materialized_views.retailer_polygon ON materialized_views.retailer_polygon.retailer_id = so.retailer_id\n",
    "  JOIN districts ON districts.id = materialized_views.retailer_polygon.district_id\n",
    "  JOIN cities ON cities.id = districts.city_id\n",
    "  JOIN states ON states.id = cities.state_id\n",
    "  JOIN regions ON regions.id = states.region_id\n",
    "  JOIN finance.all_cogs f ON f.product_id = pso.product_id\n",
    "  AND f.from_date::DATE <= so.created_at::DATE\n",
    "  AND f.to_date::DATE > so.created_at::DATE\n",
    "WHERE\n",
    "  so.created_at::DATE >= CURRENT_DATE -46\n",
    "  AND so.sales_order_status_id NOT IN (7, 12)\n",
    "  AND so.channel IN ('telesales', 'retailer')\n",
    "  AND pso.purchased_item_count <> 0\n",
    "  AND date_part('hour', so.created_at) < date_part('hour', CURRENT_TIMESTAMP)\n",
    "GROUP BY\n",
    "  ALL\n",
    "ORDER BY\n",
    "  1\n",
    "        \n",
    "'''\n",
    "columns = ['region','date', 'product_id', 'qty']\n",
    "SKU_mtd_volume = query_snowflake(command_string, columns)\n",
    "SKU_mtd_volume.date = pd.to_datetime(SKU_mtd_volume.date)\n",
    "SKU_mtd_volume.product_id = pd.to_numeric(SKU_mtd_volume.product_id)\n",
    "SKU_mtd_volume.mtd_volume = pd.to_numeric(SKU_mtd_volume.qty)"
   ]
  },
  {
   "cell_type": "code",
   "execution_count": 10,
   "id": "644dd706-debb-4391-a03a-c88188176342",
   "metadata": {
    "tags": []
   },
   "outputs": [],
   "source": [
    "def calculate_fillrate(data, start_date):\n",
    "    sales = data.loc[data.date >= str(start_date)].copy()\n",
    "    if(start_date == today):\n",
    "        req_date = (today - start_date).days\n",
    "    else:   \n",
    "        req_date = (pd.Timestamp.today().date() - timedelta(days=1) - start_date).days\n",
    "    total_sales = sales.groupby(['region','product_id']).qty.mean().reset_index()\n",
    "    total_sales.columns = ['region','product_id',f'mtd_volume_{req_date}']\n",
    "    total_sales[f'mtd_volume_{req_date}'] = np.ceil(total_sales[f'mtd_volume_{req_date}'])\n",
    "    return total_sales"
   ]
  },
  {
   "cell_type": "code",
   "execution_count": 11,
   "id": "9ca08e65-66b7-46e8-a1ab-a9dc0bf4456d",
   "metadata": {
    "tags": []
   },
   "outputs": [],
   "source": [
    "mtd_volume_today = calculate_fillrate(SKU_mtd_volume, today)\n",
    "mtd_volume_3 = calculate_fillrate(SKU_mtd_volume, today_minus_3)\n",
    "mtd_volume_7 = calculate_fillrate(SKU_mtd_volume, today_minus_7)\n",
    "mtd_volume_14 = calculate_fillrate(SKU_mtd_volume, today_minus_14)\n",
    "mtd_volume_21 = calculate_fillrate(SKU_mtd_volume, today_minus_21)\n",
    "mtd_volume_35 = calculate_fillrate(SKU_mtd_volume, today_minus_35)"
   ]
  },
  {
   "cell_type": "code",
   "execution_count": 12,
   "id": "9f44817e-6232-4b89-8961-670389dfe62d",
   "metadata": {
    "tags": []
   },
   "outputs": [],
   "source": [
    "sku_mtd_volume_data = mtd_volume_today.merge(mtd_volume_3, how='outer', on=['region','product_id']).merge(\n",
    "                      mtd_volume_7, how='outer', on=['region', 'product_id']).merge(\n",
    "                      mtd_volume_14, how='outer', on=['region',  'product_id']).merge(\n",
    "                      mtd_volume_21, how='outer', on=['region','product_id']).merge(\n",
    "                      mtd_volume_35, how='outer', on=['region','product_id']).fillna(0)\n"
   ]
  },
  {
   "cell_type": "code",
   "execution_count": 13,
   "id": "86c28a6a-3b91-4327-8d38-f54cbf670eca",
   "metadata": {
    "tags": []
   },
   "outputs": [],
   "source": [
    "def scores_calc(df,col):\n",
    "    if df[col] == df['mtd_volume_0']:\n",
    "        return 100\n",
    "    elif df[col] == 0:\n",
    "        return df['mtd_volume_0']\n",
    "    else:\n",
    "        return np.minimum(1/abs((df['mtd_volume_0']-df[col])/df[col]),100)"
   ]
  },
  {
   "cell_type": "code",
   "execution_count": 14,
   "id": "38b0fe58-736a-4f68-8b3b-38fbc9c974b0",
   "metadata": {
    "tags": []
   },
   "outputs": [],
   "source": [
    "sku_mtd_volume_data['score_3'] = sku_mtd_volume_data.apply(lambda row: scores_calc(row, 'mtd_volume_3'), axis=1)\n",
    "sku_mtd_volume_data['score_7'] = sku_mtd_volume_data.apply(lambda row: scores_calc(row, 'mtd_volume_7'), axis=1)\n",
    "sku_mtd_volume_data['score_14'] = sku_mtd_volume_data.apply(lambda row: scores_calc(row, 'mtd_volume_14'), axis=1)\n",
    "sku_mtd_volume_data['score_21'] = sku_mtd_volume_data.apply(lambda row: scores_calc(row, 'mtd_volume_21'), axis=1)\n",
    "sku_mtd_volume_data['score_35'] = sku_mtd_volume_data.apply(lambda row: scores_calc(row, 'mtd_volume_35'), axis=1)\n",
    "sku_mtd_volume_data['total_score'] = sku_mtd_volume_data['score_3']+sku_mtd_volume_data['score_7']+sku_mtd_volume_data['score_14']+sku_mtd_volume_data['score_21']+sku_mtd_volume_data['score_35']"
   ]
  },
  {
   "cell_type": "code",
   "execution_count": 15,
   "id": "8c01c9c2-a7d9-4e4c-9a6d-0b7731482831",
   "metadata": {
    "tags": []
   },
   "outputs": [],
   "source": [
    "sku_mtd_volume_data['wf3'] = sku_mtd_volume_data['score_3']/sku_mtd_volume_data['total_score']\n",
    "sku_mtd_volume_data['wf7'] = sku_mtd_volume_data['score_7']/sku_mtd_volume_data['total_score']\n",
    "sku_mtd_volume_data['wf14'] = sku_mtd_volume_data['score_14']/sku_mtd_volume_data['total_score']\n",
    "sku_mtd_volume_data['wf21'] = sku_mtd_volume_data['score_21']/sku_mtd_volume_data['total_score']\n",
    "sku_mtd_volume_data['wf35'] = sku_mtd_volume_data['score_35']/sku_mtd_volume_data['total_score']\n"
   ]
  },
  {
   "cell_type": "code",
   "execution_count": 16,
   "id": "ee2dc307-e103-467a-8880-1d1ef7d0c413",
   "metadata": {
    "tags": []
   },
   "outputs": [],
   "source": [
    "sku_mtd_volume_data = sku_mtd_volume_data[['product_id','region','wf3','wf7','wf14','wf21','wf35']]\n",
    "sku_mtd_volume_data['wf3'] = (sku_mtd_volume_data['wf3']*0.6)+(0.4*0.5)\n",
    "sku_mtd_volume_data['wf7'] = (sku_mtd_volume_data['wf7']*0.6)+(0.4*0.25)\n",
    "sku_mtd_volume_data['wf14'] = (sku_mtd_volume_data['wf14']*0.6)+(0.4*0.15)\n",
    "sku_mtd_volume_data['wf21'] = (sku_mtd_volume_data['wf21']*0.6)+(0.4*0.075)\n",
    "sku_mtd_volume_data['wf35'] = (sku_mtd_volume_data['wf35']*0.6)+(0.4*(0.025))"
   ]
  },
  {
   "cell_type": "code",
   "execution_count": 17,
   "id": "d94091dc-2518-4a48-8c68-e815e9d70c75",
   "metadata": {
    "tags": []
   },
   "outputs": [],
   "source": [
    "sku_cont_sales_data = sku_cont_sales_data.merge(sku_mtd_volume_data,on=['product_id','region'])\n",
    "sku_cont_sales_data['final_cntrb'] = (\n",
    "    (sku_cont_sales_data['contribution_3']*sku_cont_sales_data['wf3'])+\n",
    "    (sku_cont_sales_data['contribution_7']*sku_cont_sales_data['wf7'])+\n",
    "    (sku_cont_sales_data['contribution_14']*sku_cont_sales_data['wf14'])+\n",
    "    (sku_cont_sales_data['contribution_21']*sku_cont_sales_data['wf21'])+\n",
    "    (sku_cont_sales_data['contribution_35']*sku_cont_sales_data['wf35'])\n",
    ")"
   ]
  },
  {
   "cell_type": "code",
   "execution_count": 20,
   "id": "96d4d842-116e-4187-801e-a5e32ba5b10b",
   "metadata": {
    "tags": []
   },
   "outputs": [],
   "source": [
    "sku_cont_sales_data['total_cntrb'] = sku_cont_sales_data.groupby(['region','brand_id','cat_id'])['final_cntrb'].transform(sum)\n",
    "sku_cont_sales_data['final_cntrb'] = sku_cont_sales_data['final_cntrb']/sku_cont_sales_data['total_cntrb'] "
   ]
  },
  {
   "cell_type": "code",
   "execution_count": 21,
   "id": "f9b61102-d1b0-4a2a-a8e6-295bdd572afc",
   "metadata": {
    "tags": []
   },
   "outputs": [],
   "source": [
    "sku_cont_sales_data[['region','product_id','final_cntrb']].to_excel('Skus_cntrb.xlsx')"
   ]
  },
  {
   "cell_type": "code",
   "execution_count": null,
   "id": "f50dbb53-a666-4547-8efc-1a3e80c5c0a9",
   "metadata": {},
   "outputs": [],
   "source": []
  }
 ],
 "metadata": {
  "kernelspec": {
   "display_name": "conda_python3",
   "language": "python",
   "name": "conda_python3"
  },
  "language_info": {
   "codemirror_mode": {
    "name": "ipython",
    "version": 3
   },
   "file_extension": ".py",
   "mimetype": "text/x-python",
   "name": "python",
   "nbconvert_exporter": "python",
   "pygments_lexer": "ipython3",
   "version": "3.10.18"
  }
 },
 "nbformat": 4,
 "nbformat_minor": 5
}
