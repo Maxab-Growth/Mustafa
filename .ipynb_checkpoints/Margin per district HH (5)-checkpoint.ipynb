{
 "cells": [
  {
   "cell_type": "markdown",
   "id": "dc6a402c",
   "metadata": {},
   "source": [
    "# Setup Libraries"
   ]
  },
  {
   "cell_type": "code",
   "execution_count": null,
   "id": "f16ada89",
   "metadata": {},
   "outputs": [],
   "source": [
    "import sys #append for path\n",
    "import importlib\n",
    "import os\n",
    "import psycopg2\n",
    "import numpy as np\n",
    "import pandas as pd\n",
    "from tqdm import tqdm\n",
    "from datetime import datetime, timedelta,date\n",
    "import math\n",
    "import calendar\n",
    "from io import StringIO\n",
    "from dotenv import load_dotenv\n",
    "load_dotenv('osama.env')\n",
    "import json\n",
    "import requests\n",
    "from metabasepy import Client, MetabaseTableParser\n",
    "import warnings\n",
    "warnings.filterwarnings('ignore')"
   ]
  },
  {
   "cell_type": "code",
   "execution_count": null,
   "id": "3ab81ed3",
   "metadata": {},
   "outputs": [],
   "source": [
    "import os\n",
    "import json\n",
    "import requests\n",
    "from io import StringIO\n",
    "import pandas as pd\n",
    "def ret_metabase(question_id, filters = {}):\n",
    "    base_url = 'https://metabase.maxab.info:8444/api'\n",
    "    base_headers = {'Content-Type': 'application/json'}\n",
    "    try:\n",
    "        s_response = requests.post(\n",
    "            base_url + '/session',\n",
    "            data=json.dumps({'username': os.environ[\"METABASE_USER_NAME\"], 'password': os.environ[\"METABASE_PASSWORD\"]}),\n",
    "            headers=base_headers\n",
    "        )\n",
    "        s_response.raise_for_status()\n",
    "        session_token = s_response.json()['id']\n",
    "        base_headers['X-Metabase-Session'] = session_token\n",
    "        params = []\n",
    "        for name, value in filters.items():\n",
    "            filter_type, filter_value = value\n",
    "            if filter_type.lower() == 'date':\n",
    "                if isinstance(filter_value, list):\n",
    "                    params.append({'type': 'date/range', 'target': ['variable', ['template-tag', name]], 'value': filter_value})\n",
    "                else:\n",
    "                    params.append({'type': 'date/single', 'target': ['variable', ['template-tag', name]], 'value': filter_value})\n",
    "            elif filter_type.lower() == 'category':\n",
    "                params.append({'type': 'category', 'target': ['variable', ['template-tag', name]], 'value': filter_value})\n",
    "            elif filter_type.lower() == 'text':\n",
    "                params.append({'type': 'text', 'target': ['variable', ['template-tag', name]], 'value': filter_value})\n",
    "            elif filter_type.lower() == 'number':\n",
    "                params.append({'type': 'number', 'target': ['variable', ['template-tag', name]], 'value': filter_value})\n",
    "            elif filter_type.lower() == 'field list':\n",
    "                params.append({'type': 'id', 'target': ['dimension', ['template-tag', name]], 'value': filter_value})\n",
    "                \n",
    "        p_response = requests.post(\n",
    "            base_url + '/card/' + str(question_id) + '/query/csv',\n",
    "            params={'parameters': json.dumps(params)},\n",
    "            headers=base_headers\n",
    "        )\n",
    "        p_response.raise_for_status()\n",
    "        my_dict = p_response.content\n",
    "        s = str(my_dict, 'utf-8')\n",
    "        my_dict = StringIO(s)\n",
    "        df = pd.read_csv(my_dict)\n",
    "        return df\n",
    "    except requests.exceptions.HTTPError as errh:\n",
    "        return errh\n",
    "    except requests.exceptions.ConnectionError as errc:\n",
    "        return errc\n",
    "    except requests.exceptions.Timeout as errt:\n",
    "        return errt\n",
    "    except requests.exceptions.RequestException as err:\n",
    "        return err"
   ]
  },
  {
   "cell_type": "code",
   "execution_count": null,
   "id": "cd67b761",
   "metadata": {},
   "outputs": [],
   "source": [
    "# cli = Client(username=os.environ[\"METABASE_USER_NAME\"], password=os.environ[\"METABASE_PASSWORD\"], \n",
    "#          base_url='https://metabase.maxab.info:8444/api')\n",
    "# cli.authenticate()"
   ]
  },
  {
   "cell_type": "code",
   "execution_count": null,
   "id": "fc5a10fb",
   "metadata": {},
   "outputs": [],
   "source": [
    "dirr1 = 'HH_'+str(date.today())+'_districts'\n",
    "isdir = os.path.isdir(dirr1)\n",
    "if(not isdir):\n",
    "    os.mkdir(str(dirr1))\n",
    "else:\n",
    "    print(\"Directory available\")"
   ]
  },
  {
   "cell_type": "code",
   "execution_count": null,
   "id": "d4599a96",
   "metadata": {},
   "outputs": [],
   "source": [
    "now = datetime.now()\n",
    "current_time_data = now.strftime(\"%d/%m/%Y %H:%M\")\n",
    "current_time_data\n",
    "dirr ='HH_' + str(current_time_data.replace(\"/\", \"-\").replace(\":\", \"-\"))\n",
    "dirr = os.path.join(dirr1, dirr)\n",
    "\n",
    "# Check if the subfolder exists, create if not\n",
    "if not os.path.isdir(dirr):\n",
    "    os.mkdir(dirr)\n",
    "    print(f\"Created subdirectory: {dirr}\")\n",
    "else:\n",
    "    print(\"Subdirectory already exists.\")"
   ]
  },
  {
   "cell_type": "code",
   "execution_count": null,
   "id": "12fc59fa",
   "metadata": {},
   "outputs": [],
   "source": [
    "# Happy Hour dates\n",
    "date_from = ((pd.Timestamp.now()).replace(hour=21,minute=00).strftime('%#d/%#m/%Y %H:%M'))\n",
    "date_to = ((pd.Timestamp.now() + pd.Timedelta(days = 1)).replace(hour=20,minute=59).strftime('%#d/%#m/%Y %H:%M'))\n",
    "print(date_from,date_to)"
   ]
  },
  {
   "cell_type": "code",
   "execution_count": null,
   "id": "412aaf9f",
   "metadata": {},
   "outputs": [],
   "source": [
    "# Offers date\n",
    "given_time_str_2 = ((pd.Timestamp.now()).replace(hour=9,minute=0).strftime('%#d-%#m-%Y %H:%M'))\n",
    "final_time_str_2 = ((pd.Timestamp.now() + pd.Timedelta(days = 1)).replace(hour=20,minute=59).strftime('%#d-%#m-%Y %H:%M'))\n",
    "print(given_time_str_2,final_time_str_2)"
   ]
  },
  {
   "cell_type": "markdown",
   "id": "3db29421",
   "metadata": {},
   "source": [
    "# Queries"
   ]
  },
  {
   "cell_type": "code",
   "execution_count": null,
   "id": "9bc156fe",
   "metadata": {},
   "outputs": [],
   "source": [
    "# top 20 skus per district\n",
    "df1 = ret_metabase(42825)\n",
    "df1.columns = df1.columns.str.lower()"
   ]
  },
  {
   "cell_type": "code",
   "execution_count": null,
   "id": "36ba30f3",
   "metadata": {},
   "outputs": [],
   "source": [
    "# top skus per district high gross margin ,cm3 included\n",
    "df2 = ret_metabase(43098)\n",
    "df2.columns = df2.columns.str.lower()"
   ]
  },
  {
   "cell_type": "code",
   "execution_count": null,
   "id": "7c998e86",
   "metadata": {},
   "outputs": [],
   "source": [
    "# top skus per district high margin\n",
    "df3 = ret_metabase(42784)\n",
    "df3.columns = df3.columns.str.lower()"
   ]
  },
  {
   "cell_type": "code",
   "execution_count": null,
   "id": "4ed08343",
   "metadata": {},
   "outputs": [],
   "source": [
    "# active retailers\n",
    "df4 = ret_metabase(36356)\n",
    "df4.columns = df4.columns.str.lower()"
   ]
  },
  {
   "cell_type": "code",
   "execution_count": null,
   "id": "cc5dc686",
   "metadata": {},
   "outputs": [],
   "source": [
    "# read packing units\n",
    "df5 = ret_metabase(35788)\n",
    "df5.columns = df5.columns.str.lower()"
   ]
  },
  {
   "cell_type": "code",
   "execution_count": null,
   "id": "12bed65d",
   "metadata": {},
   "outputs": [],
   "source": [
    "# retailers with delays\n",
    "df6 = ret_metabase(28696)\n",
    "df6.columns = df6.columns.str.lower()"
   ]
  },
  {
   "cell_type": "code",
   "execution_count": null,
   "id": "ea0e978e",
   "metadata": {},
   "outputs": [],
   "source": [
    "#retailer bought skus\n",
    "df7=ret_metabase(46923)\n",
    "df7.columns = df7.columns.str.lower()\n",
    "df7"
   ]
  },
  {
   "cell_type": "code",
   "execution_count": null,
   "id": "e5b6b4bd",
   "metadata": {},
   "outputs": [],
   "source": [
    "#sku info\n",
    "df8=ret_metabase(27913)            #check margins\n",
    "df8.columns = df8.columns.str.lower()"
   ]
  },
  {
   "cell_type": "code",
   "execution_count": null,
   "id": "a1cc2c01",
   "metadata": {},
   "outputs": [],
   "source": [
    "# top non food skus\n",
    "df9 = ret_metabase(42783)\n",
    "df9.columns = df9.columns.str.lower()"
   ]
  },
  {
   "cell_type": "code",
   "execution_count": null,
   "id": "9ceaf356",
   "metadata": {},
   "outputs": [],
   "source": [
    "# # top non food skus WITHOUT LIMITATIONS\n",
    "# df9 = ret_metabase(42826)\n",
    "# df9.columns = df9.columns.str.lower()"
   ]
  },
  {
   "cell_type": "code",
   "execution_count": null,
   "id": "040a572b",
   "metadata": {},
   "outputs": [],
   "source": [
    "# read retailer stocks\n",
    "#Check inventory per warehouse\n",
    "df10 = ret_metabase(1604)\n",
    "df10.columns = df10.columns.str.lower()"
   ]
  },
  {
   "cell_type": "code",
   "execution_count": null,
   "id": "86a742a3",
   "metadata": {},
   "outputs": [],
   "source": [
    "# # read retailer dispaching rules for target supply chains \n",
    "# df11 = ret_metabase(8979)\n",
    "# df11.columns = df11.columns.str.lower()"
   ]
  },
  {
   "cell_type": "code",
   "execution_count": null,
   "id": "5c814d87",
   "metadata": {},
   "outputs": [],
   "source": [
    "# retailers current wallet\n",
    "df12 = ret_metabase(33544)\n",
    "df12.columns=df12.columns.str.lower()"
   ]
  },
  {
   "cell_type": "code",
   "execution_count": null,
   "id": "68de64a2",
   "metadata": {},
   "outputs": [],
   "source": [
    "coupons = ret_metabase(47705)\n",
    "coupons.columns = coupons.columns.str.lower()\n",
    "coupons.rename({'value': 'wallet'}, axis = 1, inplace = True)"
   ]
  },
  {
   "cell_type": "code",
   "execution_count": null,
   "id": "d8409e06",
   "metadata": {},
   "outputs": [],
   "source": [
    "df12 = pd.concat([df12, coupons])"
   ]
  },
  {
   "cell_type": "code",
   "execution_count": null,
   "id": "5979acdf",
   "metadata": {},
   "outputs": [],
   "source": [
    "df12 = df12.groupby(['retailer_id'])['wallet'].sum().reset_index()"
   ]
  },
  {
   "cell_type": "code",
   "execution_count": null,
   "id": "88fe421f",
   "metadata": {},
   "outputs": [],
   "source": [
    "# retailers new segment \n",
    "df13 = ret_metabase(34193)\n",
    "df13.columns=df13.columns.str.lower()"
   ]
  },
  {
   "cell_type": "code",
   "execution_count": null,
   "id": "2ab4c975",
   "metadata": {},
   "outputs": [],
   "source": [
    "# retailer bought skus new \n",
    "df14 = ret_metabase(35452)\n",
    "df14.columns=df14.columns.str.lower()"
   ]
  },
  {
   "cell_type": "code",
   "execution_count": null,
   "id": "5baef747",
   "metadata": {},
   "outputs": [],
   "source": [
    "# skus with price constarints\n",
    "df15 = ret_metabase(47961)\n",
    "df15.columns=df15.columns.str.lower()"
   ]
  },
  {
   "cell_type": "code",
   "execution_count": null,
   "id": "bf0943f3",
   "metadata": {},
   "outputs": [],
   "source": [
    "# min maxab price\n",
    "df16 = ret_metabase(47962)\n",
    "df16.columns=df16.columns.str.lower()"
   ]
  },
  {
   "cell_type": "code",
   "execution_count": null,
   "id": "28591130",
   "metadata": {},
   "outputs": [],
   "source": [
    "def change_columns_type(df):\n",
    "    \n",
    "    # convert column names to lower case\n",
    "    df.columns = df.columns.str.lower()\n",
    "    \n",
    "    # create list that contains all column names \n",
    "    df_columns_names = df.columns\n",
    "    \n",
    "    # loop over columns to convert its types\n",
    "    for column_name in df_columns_names:\n",
    "        df[column_name] = df[column_name].astype(str)\n",
    "        if df[column_name].str.contains('True', regex = False).any() | df[column_name].str.contains('False', regex = False).any():\n",
    "            df[column_name] = df[column_name].astype(bool)\n",
    "        else:   \n",
    "            try:\n",
    "                # check if the column contains '.' then convert columns to float else to int64\n",
    "                if df[column_name].str.contains('.', regex=False).any():\n",
    "                    df[column_name] = df[column_name].str.replace(',', '')\n",
    "                    df[column_name] = df[column_name].astype(float)\n",
    "                else:\n",
    "                    df[column_name] = df[column_name].str.replace(',', '')\n",
    "                    df[column_name] = df[column_name].astype('int64')\n",
    "            except ValueError as e:\n",
    "                pass\n",
    "    return df"
   ]
  },
  {
   "cell_type": "code",
   "execution_count": null,
   "id": "e5dc223d",
   "metadata": {},
   "outputs": [],
   "source": [
    "change_columns_type(df1)\n",
    "change_columns_type(df2)\n",
    "change_columns_type(df3)\n",
    "change_columns_type(df4)\n",
    "change_columns_type(df5)\n",
    "change_columns_type(df6)\n",
    "change_columns_type(df7)\n",
    "change_columns_type(df8)\n",
    "change_columns_type(df9)\n",
    "change_columns_type(df10)\n",
    "#change_columns_type(df11)\n",
    "change_columns_type(df12)\n",
    "change_columns_type(df13)\n",
    "change_columns_type(df14)\n",
    "change_columns_type(df15)\n",
    "change_columns_type(df16)"
   ]
  },
  {
   "cell_type": "code",
   "execution_count": null,
   "id": "c1ea159b",
   "metadata": {},
   "outputs": [],
   "source": [
    "top_5_district_skus =df1.copy()\n",
    "top_gross_skus = df2.copy()\n",
    "top_margin_skus = df3.copy()\n",
    "active_retailers = df4.copy()\n",
    "packing_units = df5.copy()\n",
    "retailer_delays = df6.copy()\n",
    "retailer_bought_skus = df7.copy()\n",
    "sku_info = df8.copy()\n",
    "top_nonfood_skus = df9.copy()\n",
    "retailer_stocks = df10.copy()\n",
    "# retailer_dispaching_rules = df11.copy()\n",
    "retailer_wallet = df12.copy()\n",
    "retailer_segment = df13.copy()\n",
    "retailer_bought_skus_new = df14.copy()\n",
    "sku_constraints = df15.copy()\n",
    "maxab_price = df16.copy()"
   ]
  },
  {
   "cell_type": "code",
   "execution_count": null,
   "id": "8c5d6a22",
   "metadata": {},
   "outputs": [],
   "source": [
    "len(top_nonfood_skus)"
   ]
  },
  {
   "cell_type": "markdown",
   "id": "14daa0e6",
   "metadata": {},
   "source": [
    "# Retailer exclusions ***"
   ]
  },
  {
   "cell_type": "code",
   "execution_count": null,
   "id": "0905ad90",
   "metadata": {},
   "outputs": [],
   "source": [
    "len(active_retailers)"
   ]
  },
  {
   "cell_type": "code",
   "execution_count": null,
   "id": "5dc499bb",
   "metadata": {},
   "outputs": [],
   "source": [
    "# aa=pd.read_clipboard()"
   ]
  },
  {
   "cell_type": "code",
   "execution_count": null,
   "id": "6c8c0f90",
   "metadata": {},
   "outputs": [],
   "source": [
    "# active_retailers = active_retailers[active_retailers['retailer_id'].isin(aa['retailer_id'])]\n",
    "# len(active_retailers)\n"
   ]
  },
  {
   "cell_type": "code",
   "execution_count": null,
   "id": "d6ba44f5",
   "metadata": {},
   "outputs": [],
   "source": [
    "#remove retailrs with delays\n",
    "active_retailers = active_retailers[~active_retailers['retailer_id'].isin(retailer_delays['retailer_id'])]\n",
    "len(active_retailers)"
   ]
  },
  {
   "cell_type": "code",
   "execution_count": null,
   "id": "c52d8542",
   "metadata": {},
   "outputs": [],
   "source": [
    "#merge retailers with df17 keeping only wallet\n",
    "active_retailers = pd.merge(active_retailers, retailer_wallet[['retailer_id','wallet']], on='retailer_id', how='left')\n",
    "#if wallet is null then 0\n",
    "active_retailers['wallet'] = active_retailers['wallet'].fillna(0)\n",
    "#remove rows with wallet >0\n",
    "active_retailers = active_retailers[active_retailers['wallet']<20]\n",
    "len(active_retailers)"
   ]
  },
  {
   "cell_type": "code",
   "execution_count": null,
   "id": "0477ca6e",
   "metadata": {},
   "outputs": [],
   "source": [
    "# temp_ret = pd.read_clipboard()              # @mai and magdy edit here   \n",
    "# temp_ret.columns = temp_ret.columns.str.lower()\n",
    "# active_retailers = active_retailers[active_retailers['retailer_id'].isin(temp_ret['retailer_id'])]"
   ]
  },
  {
   "cell_type": "code",
   "execution_count": null,
   "id": "10affd5d",
   "metadata": {},
   "outputs": [],
   "source": []
  },
  {
   "cell_type": "code",
   "execution_count": null,
   "id": "2e5b34dd",
   "metadata": {},
   "outputs": [],
   "source": [
    "# #keep only rows with retailer_id found in temp_ret\n",
    "# active_retailers = active_retailers[active_retailers['retailer_id'].isin(temp_ret['retailer_id'])]\n",
    "# len(active_retailers)"
   ]
  },
  {
   "cell_type": "code",
   "execution_count": null,
   "id": "56cdd26c",
   "metadata": {},
   "outputs": [],
   "source": [
    "# remove duplicates\n",
    "active_retailers = active_retailers.drop_duplicates(subset=['retailer_id'])\n",
    "len(active_retailers)"
   ]
  },
  {
   "cell_type": "code",
   "execution_count": null,
   "id": "8c64cdfa",
   "metadata": {},
   "outputs": [],
   "source": [
    "# excluded retailers              @mai and magdy edit here\n",
    "excluded = pd.read_clipboard()\n",
    "excluded.columns = excluded.columns.str.lower()\n",
    "# remove excluded retailers\n",
    "active_retailers = active_retailers[~active_retailers['retailer_id'].isin(excluded['retailer_id'])]\n",
    "len(active_retailers)"
   ]
  },
  {
   "cell_type": "markdown",
   "id": "fb41fe53",
   "metadata": {},
   "source": [
    "# Bucketizing retailers"
   ]
  },
  {
   "cell_type": "code",
   "execution_count": null,
   "id": "0a01d3a3",
   "metadata": {},
   "outputs": [],
   "source": [
    "#if segment is null fill with minimarket\n",
    "active_retailers['segment'].fillna('minimarket',inplace=True)"
   ]
  },
  {
   "cell_type": "code",
   "execution_count": null,
   "id": "ca82348a",
   "metadata": {},
   "outputs": [],
   "source": [
    "# Calculate percentiles\n",
    "percentile_10 = np.percentile(active_retailers['bm'], 10)\n",
    "percentile_90 = np.percentile(active_retailers['bm'], 90)\n",
    "percentile_10, percentile_90"
   ]
  },
  {
   "cell_type": "code",
   "execution_count": null,
   "id": "9a77220c",
   "metadata": {},
   "outputs": [],
   "source": [
    "retailers_margin_outliers = active_retailers[(active_retailers['bm'] < percentile_10) | (active_retailers['bm'] > percentile_90)]\n",
    "retailers_margin_outliers"
   ]
  },
  {
   "cell_type": "code",
   "execution_count": null,
   "id": "721acd5f",
   "metadata": {},
   "outputs": [],
   "source": [
    "#remove retailers found in outliers\n",
    "active_retailers = active_retailers[~active_retailers['retailer_id'].isin(retailers_margin_outliers['retailer_id'])]\n",
    "len(active_retailers)"
   ]
  },
  {
   "cell_type": "code",
   "execution_count": null,
   "id": "05b4cbe5",
   "metadata": {},
   "outputs": [],
   "source": [
    "#add new column avg_seg_bm which is the average bm per segment\n",
    "active_retailers['avg_dis_bm']=active_retailers.groupby(['district'])['bm'].transform('mean')\n",
    "active_retailers['avg_dis_bm']=active_retailers['avg_dis_bm'].round(4)\n",
    "active_retailers"
   ]
  },
  {
   "cell_type": "code",
   "execution_count": null,
   "id": "93713da9",
   "metadata": {},
   "outputs": [],
   "source": [
    "active_retailers['bm_diff']=(active_retailers['bm']-active_retailers['avg_dis_bm']).round(4)\n",
    "active_retailers['z_score']=active_retailers['bm_diff']/active_retailers['avg_dis_bm'].round(4)\n",
    "active_retailers"
   ]
  },
  {
   "cell_type": "code",
   "execution_count": null,
   "id": "a4eb00de",
   "metadata": {},
   "outputs": [],
   "source": [
    "#add new column ret_flag which is 'margin' if z_score is <-0.1\n",
    "active_retailers['ret_flag']=np.where(active_retailers['z_score']<-0.1,'margin','')\n",
    "active_retailers"
   ]
  },
  {
   "cell_type": "code",
   "execution_count": null,
   "id": "7081e69a",
   "metadata": {},
   "outputs": [],
   "source": [
    "#concat retailers_margin with retailers_margin_outliers \n",
    "active_retailers=pd.concat([active_retailers,retailers_margin_outliers],ignore_index=True)\n",
    "active_retailers"
   ]
  },
  {
   "cell_type": "code",
   "execution_count": null,
   "id": "3f4f1790",
   "metadata": {},
   "outputs": [],
   "source": [
    "#if bm less than 4.1 then flag as 'margin'\n",
    "active_retailers['ret_flag']=np.where(active_retailers['bm']<4.1,'margin',active_retailers['ret_flag'])\n",
    "active_retailers"
   ]
  },
  {
   "cell_type": "code",
   "execution_count": null,
   "id": "8b562c72",
   "metadata": {},
   "outputs": [],
   "source": [
    "# replace empty and NULL strings with 'normal'\n",
    "active_retailers['ret_flag']=active_retailers['ret_flag'].replace('', 'normal')\n",
    "active_retailers['ret_flag']=active_retailers['ret_flag'].fillna('normal')\n",
    "active_retailers\n"
   ]
  },
  {
   "cell_type": "code",
   "execution_count": null,
   "id": "c25c3788",
   "metadata": {},
   "outputs": [],
   "source": [
    "#print uniqe values in ret_flag\n",
    "active_retailers['ret_flag'].unique()"
   ]
  },
  {
   "cell_type": "code",
   "execution_count": null,
   "id": "5e55b973",
   "metadata": {},
   "outputs": [],
   "source": [
    "## Add wh\n",
    "ret_warehouse = ret_metabase(56815)\n",
    "ret_warehouse = change_columns_type(ret_warehouse)\n",
    "active_retailers = active_retailers.merge(ret_warehouse,on='retailer_id')"
   ]
  },
  {
   "cell_type": "markdown",
   "id": "7560fbd2",
   "metadata": {},
   "source": [
    "# Data merge"
   ]
  },
  {
   "cell_type": "code",
   "execution_count": null,
   "id": "b8c85486",
   "metadata": {},
   "outputs": [],
   "source": [
    "retailer_segment"
   ]
  },
  {
   "cell_type": "code",
   "execution_count": null,
   "id": "69b1fd96",
   "metadata": {},
   "outputs": [],
   "source": [
    "#merge active_retailers with retailer_segment keeping only segment_new\n",
    "active_retailers = pd.merge(active_retailers, retailer_segment[['retailer_id','segment_new']], on='retailer_id', how='left')\n",
    "active_retailers.head()"
   ]
  },
  {
   "cell_type": "code",
   "execution_count": null,
   "id": "2323f7b1",
   "metadata": {},
   "outputs": [],
   "source": [
    "len(active_retailers)"
   ]
  },
  {
   "cell_type": "code",
   "execution_count": null,
   "id": "c40f4bd3",
   "metadata": {},
   "outputs": [],
   "source": [
    "# non_food_ret = rows where segment is monazzefat or papershop or pharmacy\n",
    "non_food_ret = active_retailers[active_retailers['segment_new'].isin(['nonfood'])]\n",
    "len(non_food_ret)"
   ]
  },
  {
   "cell_type": "code",
   "execution_count": null,
   "id": "732c1b41",
   "metadata": {},
   "outputs": [],
   "source": [
    "# food_ret = rows where retailer_id is not in non_food_ret\n",
    "food_ret = active_retailers[~active_retailers['retailer_id'].isin(non_food_ret['retailer_id'])]\n",
    "len(food_ret)"
   ]
  },
  {
   "cell_type": "code",
   "execution_count": null,
   "id": "3028b921",
   "metadata": {},
   "outputs": [],
   "source": [
    "food_ret"
   ]
  },
  {
   "cell_type": "code",
   "execution_count": null,
   "id": "81531a16",
   "metadata": {},
   "outputs": [],
   "source": [
    "#merge food_ret with top_5_district_skus on district\n",
    "ret_sku_no_limitations = pd.merge(food_ret, top_5_district_skus, on='district', how='left')\n",
    "ret_sku_no_limitations"
   ]
  },
  {
   "cell_type": "code",
   "execution_count": null,
   "id": "91a1c41a",
   "metadata": {},
   "outputs": [],
   "source": [
    "retailer_bought_skus['flag']=1\n",
    "retailer_bought_skus"
   ]
  },
  {
   "cell_type": "code",
   "execution_count": null,
   "id": "89dc6fa6",
   "metadata": {},
   "outputs": [],
   "source": [
    "# x = ret_sku_no_limitations.merge(retailer_bought_skus[['retailer_id','product_id','flag']], on=['retailer_id','product_id'], how='left')\n",
    "# ret_sku_no_limitations = x[x['flag']!=1]\n",
    "# ret_sku_no_limitations"
   ]
  },
  {
   "cell_type": "code",
   "execution_count": null,
   "id": "f88796e3",
   "metadata": {},
   "outputs": [],
   "source": [
    "#per retailer_id select only the top 5 skus\n",
    "ret_sku_no_limitations = ret_sku_no_limitations.groupby('retailer_id').head(5)\n",
    "ret_sku_no_limitations\n"
   ]
  },
  {
   "cell_type": "code",
   "execution_count": null,
   "id": "0d89ca60",
   "metadata": {},
   "outputs": [],
   "source": [
    "# export to excel\n",
    "ret_sku_no_limitations.to_excel(dirr+'/ret_sku_no_limitations.xlsx', index=False)"
   ]
  },
  {
   "cell_type": "code",
   "execution_count": null,
   "id": "e70573cb",
   "metadata": {},
   "outputs": [],
   "source": [
    "#print number of unique retailers\n",
    "len(ret_sku_no_limitations['retailer_id'].unique())"
   ]
  },
  {
   "cell_type": "code",
   "execution_count": null,
   "id": "dbe44560",
   "metadata": {},
   "outputs": [],
   "source": [
    "#divide food_ret into 2 dataframes based on ret_flag\n",
    "food_margin_ret = food_ret[food_ret['ret_flag']=='margin']\n",
    "food_normal_ret = food_ret[food_ret['ret_flag']=='normal']\n",
    "len(food_margin_ret), len(food_normal_ret)"
   ]
  },
  {
   "cell_type": "code",
   "execution_count": null,
   "id": "2a6bb330",
   "metadata": {},
   "outputs": [],
   "source": [
    "gross_skus=pd.concat([top_gross_skus],ignore_index=True)\n",
    "margin_skus=pd.concat([top_margin_skus],ignore_index=True)\n",
    "#remove rows with duplicate district and product_id in both data frames\n",
    "gross_skus = gross_skus.drop_duplicates(subset=['district','product_id'])\n",
    "margin_skus = margin_skus.drop_duplicates(subset=['district','product_id'])\n",
    "len(gross_skus), len(margin_skus)"
   ]
  },
  {
   "cell_type": "code",
   "execution_count": null,
   "id": "5cdcc7bd",
   "metadata": {},
   "outputs": [],
   "source": [
    "top_gross_skus"
   ]
  },
  {
   "cell_type": "code",
   "execution_count": null,
   "id": "fa2faf28",
   "metadata": {},
   "outputs": [],
   "source": [
    "food_ret.to_excel(dirr+'/food_ret.xlsx',index=False)\n",
    "non_food_ret.to_excel(dirr+'/non_food_ret.xlsx',index=False)"
   ]
  },
  {
   "cell_type": "code",
   "execution_count": null,
   "id": "251ee8c8",
   "metadata": {},
   "outputs": [],
   "source": [
    "# retailer_dispaching_rules = retailer_dispaching_rules[['retailer_id','warehouse_id']]"
   ]
  },
  {
   "cell_type": "code",
   "execution_count": null,
   "id": "97707d70",
   "metadata": {},
   "outputs": [],
   "source": [
    "# #merge non_food_ret with retailer_dispaching_rules\n",
    "# non_food_ret = pd.merge(non_food_ret, retailer_dispaching_rules, on='retailer_id', how='left')\n",
    "# #merge food_ret with retailer_dispaching_rules\n",
    "# food_ret = pd.merge(food_ret, retailer_dispaching_rules, on='retailer_id', how='left')"
   ]
  },
  {
   "cell_type": "code",
   "execution_count": null,
   "id": "950de697",
   "metadata": {},
   "outputs": [],
   "source": [
    "# #remove rows with warehouse_id is null\n",
    "# non_food_ret = non_food_ret[non_food_ret['warehouse_id'].notnull()]\n",
    "# food_ret = food_ret[food_ret['warehouse_id'].notnull()]"
   ]
  },
  {
   "cell_type": "code",
   "execution_count": null,
   "id": "e740a597",
   "metadata": {},
   "outputs": [],
   "source": [
    "top_nonfood_skus"
   ]
  },
  {
   "cell_type": "code",
   "execution_count": null,
   "id": "458bbe90",
   "metadata": {},
   "outputs": [],
   "source": [
    "#merge non_food_ret with non_food_skus\n",
    "non_food_ret_sku = pd.merge(non_food_ret, top_nonfood_skus, on='district', how='left')\n",
    "#merge food_margin_ret with margin_skus\n",
    "food_margin_ret_sku = pd.merge(food_margin_ret, gross_skus, on='district', how='left')\n",
    "#merge food_normal_ret with gross_skus\n",
    "food_normal_ret_sku = pd.merge(food_normal_ret, margin_skus , on='district', how='left')"
   ]
  },
  {
   "cell_type": "code",
   "execution_count": null,
   "id": "dd9bb9de",
   "metadata": {},
   "outputs": [],
   "source": [
    "top_nonfood_skus.to_excel(dirr+'/top_non_food_skus.xlsx',index=False)\n",
    "margin_skus.to_excel(dirr+'/margin_skus.xlsx',index=False)\n",
    "gross_skus.to_excel(dirr+'/gross_skus.xlsx',index=False)"
   ]
  },
  {
   "cell_type": "code",
   "execution_count": null,
   "id": "8828b417",
   "metadata": {},
   "outputs": [],
   "source": [
    "len(non_food_ret_sku)"
   ]
  },
  {
   "cell_type": "code",
   "execution_count": null,
   "id": "7b77a9dd",
   "metadata": {},
   "outputs": [],
   "source": [
    "food_margin_ret_sku"
   ]
  },
  {
   "cell_type": "code",
   "execution_count": null,
   "id": "666af10e",
   "metadata": {},
   "outputs": [],
   "source": [
    "ret_skus=pd.concat([non_food_ret_sku,food_normal_ret_sku,food_margin_ret_sku,ret_sku_no_limitations],ignore_index=True) #@mai and magdy edit here\n",
    "# ret_skus=pd.concat([non_food_ret_sku,food_normal_ret_sku,food_margin_ret_sku],ignore_index=True)\n",
    "ret_skus"
   ]
  },
  {
   "cell_type": "code",
   "execution_count": null,
   "id": "3d6e4492",
   "metadata": {},
   "outputs": [],
   "source": [
    "retailer_bought_skus_new"
   ]
  },
  {
   "cell_type": "code",
   "execution_count": null,
   "id": "31969387",
   "metadata": {},
   "outputs": [],
   "source": [
    "retailer_bought_skus_new = retailer_bought_skus_new[retailer_bought_skus_new['sku_freq']>90]\n",
    "retailer_bought_skus_new['flag_2']=1\n",
    "retailer_bought_skus_new"
   ]
  },
  {
   "cell_type": "code",
   "execution_count": null,
   "id": "89dcbe7a",
   "metadata": {},
   "outputs": [],
   "source": [
    "len(ret_skus)"
   ]
  },
  {
   "cell_type": "code",
   "execution_count": null,
   "id": "3ebf4772",
   "metadata": {},
   "outputs": [],
   "source": [
    "y = ret_skus.merge(retailer_bought_skus_new[['retailer_id','product_id','flag_2']], on=['retailer_id','product_id'], how='left')\n",
    "ret_temp = y[y['flag_2']!=1]\n"
   ]
  },
  {
   "cell_type": "code",
   "execution_count": null,
   "id": "dac15ae2",
   "metadata": {},
   "outputs": [],
   "source": [
    "ret_skus=ret_temp"
   ]
  },
  {
   "cell_type": "code",
   "execution_count": null,
   "id": "e7e0db35",
   "metadata": {},
   "outputs": [],
   "source": [
    "len(ret_skus)"
   ]
  },
  {
   "cell_type": "code",
   "execution_count": null,
   "id": "f6766d60",
   "metadata": {},
   "outputs": [],
   "source": [
    "food_margin_ret_sku['retailer_id'].nunique(),food_normal_ret_sku['retailer_id'].nunique(), non_food_ret_sku['retailer_id'].nunique()"
   ]
  },
  {
   "cell_type": "code",
   "execution_count": null,
   "id": "1495068e",
   "metadata": {},
   "outputs": [],
   "source": [
    "#keep only retailer_id ,district, product_id, sku, warehouse_id, segment\n",
    "ret_skus = ret_skus[['retailer_id','district','product_id','category','brand_name','sku','segment']]"
   ]
  },
  {
   "cell_type": "code",
   "execution_count": null,
   "id": "a1c19605",
   "metadata": {},
   "outputs": [],
   "source": [
    "ret_skus['retailer_id'].nunique()"
   ]
  },
  {
   "cell_type": "code",
   "execution_count": null,
   "id": "439fb9ed",
   "metadata": {},
   "outputs": [],
   "source": [
    "#drop rows with duplicate retailer_id and product_id\n",
    "ret_skus = ret_skus.drop_duplicates(subset=['retailer_id','product_id'])\n",
    "len(ret_skus)"
   ]
  },
  {
   "cell_type": "code",
   "execution_count": null,
   "id": "a8083dfd",
   "metadata": {},
   "outputs": [],
   "source": [
    "#drop rows with product_id is null\n",
    "ret_skus = ret_skus[ret_skus['product_id'].notnull()]\n",
    "len(ret_skus)"
   ]
  },
  {
   "cell_type": "code",
   "execution_count": null,
   "id": "b085ec2f",
   "metadata": {},
   "outputs": [],
   "source": [
    "# keep only rows from sku_info where region = Cairo or Giza\n",
    "sku_info = sku_info[sku_info['region'].isin(['Cairo','Giza'])]\n",
    "sku_info"
   ]
  },
  {
   "cell_type": "code",
   "execution_count": null,
   "id": "09b12519",
   "metadata": {},
   "outputs": [],
   "source": [
    "# group by product_id and get the average bm\n",
    "sku_info = sku_info.groupby('sku_id').agg({'bm':'mean'}).reset_index()\n",
    "sku_info"
   ]
  },
  {
   "cell_type": "code",
   "execution_count": null,
   "id": "f73ac6bf",
   "metadata": {},
   "outputs": [],
   "source": [
    "#rename sku_id to product_id\n",
    "sku_info.rename(columns={'sku_id':'product_id'},inplace=True)"
   ]
  },
  {
   "cell_type": "code",
   "execution_count": null,
   "id": "4dda109c",
   "metadata": {},
   "outputs": [],
   "source": [
    "#join ret_skus with sku_info on product_id to get the bm\n",
    "ret_skus = pd.merge(ret_skus, sku_info, on = 'product_id', how='left')\n",
    "ret_skus"
   ]
  },
  {
   "cell_type": "code",
   "execution_count": null,
   "id": "a57313ee",
   "metadata": {},
   "outputs": [],
   "source": [
    "#drop rows with bm = null\n",
    "ret_skus = ret_skus[ret_skus['bm'].notnull()]\n",
    "ret_skus"
   ]
  },
  {
   "cell_type": "code",
   "execution_count": null,
   "id": "3b135c8a",
   "metadata": {},
   "outputs": [],
   "source": [
    "#discount_adj = pd.read_clipboard()"
   ]
  },
  {
   "cell_type": "code",
   "execution_count": null,
   "id": "b7d59cd8",
   "metadata": {},
   "outputs": [],
   "source": [
    "#discount_adj"
   ]
  },
  {
   "cell_type": "code",
   "execution_count": null,
   "id": "5764fae4",
   "metadata": {},
   "outputs": [],
   "source": [
    "#ret_skus = ret_skus.merge(discount_adj,how='left',on='retailer_id').fillna(0.4)"
   ]
  },
  {
   "cell_type": "code",
   "execution_count": null,
   "id": "ab286026",
   "metadata": {},
   "outputs": [],
   "source": [
    "#add new column discount = blended_margin * 0.3 rounded to 4 decimals and floor =0.01 and ceil = 0.03  \n",
    "ret_skus['discount'] = ret_skus['bm']*0.55         # burn sensetivty exp @mai and magdy edit here\n",
    "ret_skus['discount'] = ret_skus['discount'].round(3)\n",
    "ret_skus['discount'] = ret_skus['discount'].apply(lambda x: max(x,0.01))\n",
    "ret_skus['discount'] = ret_skus['discount'].apply(lambda x: min(x,0.025))      #magdy and mai edit here\n",
    "ret_skus['discount']=ret_skus['discount']*100"
   ]
  },
  {
   "cell_type": "code",
   "execution_count": null,
   "id": "2aca9d58",
   "metadata": {},
   "outputs": [],
   "source": [
    "ret_skus"
   ]
  },
  {
   "cell_type": "code",
   "execution_count": null,
   "id": "154bf700",
   "metadata": {},
   "outputs": [],
   "source": [
    "# #if retailer_id is in non_food_ret then discount = discount + 0.5\n",
    "# mask = ret_skus['retailer_id'].isin(non_food_ret['retailer_id'])\n",
    "# ret_skus.loc[mask, 'discount'] += 0.25\n"
   ]
  },
  {
   "cell_type": "code",
   "execution_count": null,
   "id": "140af3b4",
   "metadata": {},
   "outputs": [],
   "source": [
    "#length of unique retailers\n",
    "ret_skus['retailer_id'].nunique()"
   ]
  },
  {
   "cell_type": "code",
   "execution_count": null,
   "id": "35e9b409",
   "metadata": {},
   "outputs": [],
   "source": [
    "ret_skus"
   ]
  },
  {
   "cell_type": "code",
   "execution_count": null,
   "id": "434be5e5",
   "metadata": {},
   "outputs": [],
   "source": [
    "ret_1 = ret_skus[['retailer_id','product_id','sku','discount','category','brand_name']].drop_duplicates()"
   ]
  },
  {
   "cell_type": "code",
   "execution_count": null,
   "id": "10988fbc",
   "metadata": {},
   "outputs": [],
   "source": [
    "ret_1.groupby('retailer_id')['product_id'].count().reset_index()['product_id'].mean()"
   ]
  },
  {
   "cell_type": "code",
   "execution_count": null,
   "id": "f74c671e",
   "metadata": {},
   "outputs": [],
   "source": [
    "ret_1=ret_1.groupby('retailer_id').head(30)"
   ]
  },
  {
   "cell_type": "code",
   "execution_count": null,
   "id": "5ea48cd8",
   "metadata": {},
   "outputs": [],
   "source": [
    "len(ret_1)"
   ]
  },
  {
   "cell_type": "code",
   "execution_count": null,
   "id": "cb1d3bcc",
   "metadata": {},
   "outputs": [],
   "source": [
    "ret_1"
   ]
  },
  {
   "cell_type": "markdown",
   "id": "cb77d25f",
   "metadata": {},
   "source": [
    "# Specific Skus ***"
   ]
  },
  {
   "cell_type": "markdown",
   "id": "5c08bb3b",
   "metadata": {},
   "source": [
    "### ADD SKUs across all WHs"
   ]
  },
  {
   "cell_type": "code",
   "execution_count": null,
   "id": "d4edae5e",
   "metadata": {},
   "outputs": [],
   "source": [
    "# upload specific sku list format ==> {product_id,'sku','discount'} mai and magdy"
   ]
  },
  {
   "cell_type": "code",
   "execution_count": null,
   "id": "8aca43eb",
   "metadata": {},
   "outputs": [],
   "source": [
    "specific_list1 = pd.read_clipboard()\n",
    "specific_list1\n",
    "# specific_list1=specific_list1.rename(columns={'brand':'brand_name'})"
   ]
  },
  {
   "cell_type": "code",
   "execution_count": null,
   "id": "acf780c8",
   "metadata": {},
   "outputs": [],
   "source": [
    "active_retailers['index'] = 1\n",
    "specific_list1['index'] = 1\n",
    "# join retailer list to sku list\n",
    "list_skus1 = pd.merge(active_retailers,specific_list1,on=['index'],how='inner')\n",
    "# select needed columns\n",
    "# list_skus1 = list_skus1[['retailer_id','product_id','sku','discount','brand_name']]"
   ]
  },
  {
   "cell_type": "code",
   "execution_count": null,
   "id": "afc9d198",
   "metadata": {},
   "outputs": [],
   "source": [
    "len(list_skus1)"
   ]
  },
  {
   "cell_type": "markdown",
   "id": "b8a41987",
   "metadata": {},
   "source": [
    "## add specific skus (condition)"
   ]
  },
  {
   "cell_type": "code",
   "execution_count": null,
   "id": "bd1843b5",
   "metadata": {},
   "outputs": [],
   "source": [
    "# # retailers current wallet\n",
    "# bought_cat = ret_metabase(58554)\n",
    "# bought_cat = change_columns_type(bought_cat)\n",
    "# bought_cat['buys']=1"
   ]
  },
  {
   "cell_type": "code",
   "execution_count": null,
   "id": "5908754e",
   "metadata": {},
   "outputs": [],
   "source": [
    "# active_retailers=active_retailers.merge(bought_cat[['retailer_id','buys']],how='left',on='retailer_id')\n",
    "# active_retailers['buys']=active_retailers['buys'].fillna(0)"
   ]
  },
  {
   "cell_type": "code",
   "execution_count": null,
   "id": "fdb92851",
   "metadata": {},
   "outputs": [],
   "source": [
    "# specific_list3 = pd.read_clipboard()\n",
    "# len(specific_list3)"
   ]
  },
  {
   "cell_type": "code",
   "execution_count": null,
   "id": "b7fb01ae",
   "metadata": {},
   "outputs": [],
   "source": [
    "# list_skus3 = active_retailers.merge(specific_list3,how='inner',left_on='buys',right_on='buys')\n",
    "# len(list_skus3)"
   ]
  },
  {
   "cell_type": "markdown",
   "id": "08d051ad",
   "metadata": {},
   "source": [
    "### Add SKUs Per WH"
   ]
  },
  {
   "cell_type": "code",
   "execution_count": null,
   "id": "19d6d3db",
   "metadata": {},
   "outputs": [],
   "source": [
    "# specific_list2 = pd.read_clipboard()\n",
    "# specific_list2"
   ]
  },
  {
   "cell_type": "code",
   "execution_count": null,
   "id": "5515ac3f",
   "metadata": {},
   "outputs": [],
   "source": [
    "# list_skus2 = active_retailers.merge(specific_list2,how='inner',left_on='warehouse',right_on='wh')\n",
    "# len(list_skus2)"
   ]
  },
  {
   "cell_type": "markdown",
   "id": "06292ef7",
   "metadata": {},
   "source": [
    "### Concat"
   ]
  },
  {
   "cell_type": "code",
   "execution_count": null,
   "id": "b1f9a671",
   "metadata": {},
   "outputs": [],
   "source": [
    "# list_skus=list_skus1.copy().drop_duplicates(subset = ['product_id','retailer_id'],keep='last')\n",
    "# list_skus = list_skus[['retailer_id','product_id','sku','discount']]"
   ]
  },
  {
   "cell_type": "code",
   "execution_count": null,
   "id": "5cb6cc16",
   "metadata": {},
   "outputs": [],
   "source": [
    "# list_skus=pd.concat([list_skus3]).drop_duplicates(subset = ['product_id','retailer_id'],keep='last')\n",
    "# try:\n",
    "#     list_skus = list_skus[['retailer_id','wh_id','product_id','brand','sku','discount']]\n",
    "#     print('brand')\n",
    "# except:\n",
    "#     list_skus = list_skus[['retailer_id','wh_id','product_id','sku','discount']]\n",
    "# len(list_skus)"
   ]
  },
  {
   "cell_type": "code",
   "execution_count": null,
   "id": "57475900",
   "metadata": {},
   "outputs": [],
   "source": [
    "# join both dataframes\n",
    "# frames = [ret_1,list_skus1]\n",
    "# df = pd.concat(frames)\n",
    "# df = df.drop_duplicates()\n",
    "# len(df)"
   ]
  },
  {
   "cell_type": "markdown",
   "id": "8dec2621",
   "metadata": {},
   "source": [
    "### Remove Rets with Specific SKUs"
   ]
  },
  {
   "cell_type": "markdown",
   "id": "d883d126",
   "metadata": {},
   "source": [
    "## Frozen"
   ]
  },
  {
   "cell_type": "code",
   "execution_count": null,
   "id": "c0fdc2a0",
   "metadata": {},
   "outputs": [],
   "source": [
    "frozen_rets = ret_metabase(59445)\n",
    "frozen_rets = change_columns_type(frozen_rets)"
   ]
  },
  {
   "cell_type": "code",
   "execution_count": null,
   "id": "e9f59706",
   "metadata": {},
   "outputs": [],
   "source": [
    "frozen_rets['flag']=1\n",
    "yy = list_skus1.merge(frozen_rets[['retailer_id','product_id','flag']], on=['retailer_id','product_id'], how='left')\n",
    "list_skus1 = yy[yy['flag']!=1]\n",
    "len(list_skus1)"
   ]
  },
  {
   "cell_type": "markdown",
   "id": "2a4c35be",
   "metadata": {},
   "source": [
    "##### P&G"
   ]
  },
  {
   "cell_type": "code",
   "execution_count": null,
   "id": "02cc2f4f",
   "metadata": {},
   "outputs": [],
   "source": [
    "# p_g_rets=ret_metabase(56010)\n",
    "# p_g_rets.columns = p_g_rets.columns.str.lower()\n",
    "# change_columns_type(p_g_rets)"
   ]
  },
  {
   "cell_type": "code",
   "execution_count": null,
   "id": "9828b260",
   "metadata": {},
   "outputs": [],
   "source": [
    "# p_g_rets['flag']=1\n",
    "# yy = df.merge(p_g_rets[['retailer_id','product_id','flag']], on=['retailer_id','product_id'], how='left')\n",
    "# df = yy[yy['flag']!=1]\n",
    "# len(df)"
   ]
  },
  {
   "cell_type": "markdown",
   "id": "c0a1810b",
   "metadata": {},
   "source": [
    "##### Rets Bought JBDMB"
   ]
  },
  {
   "cell_type": "code",
   "execution_count": null,
   "id": "671ed734",
   "metadata": {},
   "outputs": [],
   "source": [
    "# jbdmb_rets=ret_metabase(56856)\n",
    "# jbdmb_rets.columns = jbdmb_rets.columns.str.lower()\n",
    "# jbdmb_rets.drop_duplicates(subset = ['retailer_id', 'brand_name'], inplace = True)\n",
    "# remove_ret_sku=change_columns_type(jbdmb_rets)\n",
    "# remove_ret_sku.rename(columns={'retailer_id':'retailer_id_rem'},inplace=True)"
   ]
  },
  {
   "cell_type": "code",
   "execution_count": null,
   "id": "1c7bc96b",
   "metadata": {},
   "outputs": [],
   "source": [
    "# remove_ret_sku['retailer_id_rem']=remove_ret_sku['retailer_id_rem'].astype('string')\n",
    "# list_skus['retailer_id']=list_skus['retailer_id'].astype('string')"
   ]
  },
  {
   "cell_type": "code",
   "execution_count": null,
   "id": "cb0db818",
   "metadata": {},
   "outputs": [],
   "source": [
    "# df=df.merge(remove_ret_sku,left_on=['retailer_id','brand_name'],right_on=['retailer_id_rem','brand_name'],how='left')\n",
    "# df=df[df['retailer_id_rem'].isna()]\n",
    "# df = df.drop(columns=['retailer_id_rem'])\n",
    "# len(df)"
   ]
  },
  {
   "cell_type": "code",
   "execution_count": null,
   "id": "5f9b1a42",
   "metadata": {},
   "outputs": [],
   "source": []
  },
  {
   "cell_type": "markdown",
   "id": "431d4ba9",
   "metadata": {},
   "source": [
    "# Join Data frames and packing units **CHECK FIRST CELL"
   ]
  },
  {
   "cell_type": "code",
   "execution_count": null,
   "id": "1f5b510c",
   "metadata": {},
   "outputs": [],
   "source": [
    "# join both dataframes\n",
    "frames = [ret_1,list_skus1]\n",
    "df = pd.concat(frames)"
   ]
  },
  {
   "cell_type": "code",
   "execution_count": null,
   "id": "eace1b00",
   "metadata": {},
   "outputs": [],
   "source": [
    "\n",
    "df = df[['retailer_id','product_id','category','brand_name','sku','discount']]\n",
    "df = df.drop_duplicates()\n",
    "df=df.drop_duplicates(subset = ['product_id','retailer_id'],keep='last')\n",
    "len(df)"
   ]
  },
  {
   "cell_type": "code",
   "execution_count": null,
   "id": "239d83f5",
   "metadata": {},
   "outputs": [],
   "source": [
    "#find rows with product_id is null\n",
    "df[df['product_id'].isna()]\n"
   ]
  },
  {
   "cell_type": "code",
   "execution_count": null,
   "id": "e62fe820",
   "metadata": {},
   "outputs": [],
   "source": [
    "#count the number of product_id per retailer_id\n",
    "df.groupby('retailer_id')['product_id'].transform('count')"
   ]
  },
  {
   "cell_type": "code",
   "execution_count": null,
   "id": "e059c5f2",
   "metadata": {},
   "outputs": [],
   "source": [
    "df.head()"
   ]
  },
  {
   "cell_type": "code",
   "execution_count": null,
   "id": "0ed33c97",
   "metadata": {},
   "outputs": [],
   "source": [
    "#add_skus = pd.read_clipboard()"
   ]
  },
  {
   "cell_type": "code",
   "execution_count": null,
   "id": "c92de48b",
   "metadata": {},
   "outputs": [],
   "source": [
    "#df = pd.concat([df,add_skus])"
   ]
  },
  {
   "cell_type": "code",
   "execution_count": null,
   "id": "e7aa86a8",
   "metadata": {},
   "outputs": [],
   "source": [
    "# merge packing unit to original data frame\n",
    "sku_pu = pd.merge(df,packing_units, on=['product_id'],how='left')\n"
   ]
  },
  {
   "cell_type": "code",
   "execution_count": null,
   "id": "eeaec74b",
   "metadata": {},
   "outputs": [],
   "source": [
    "# select needed columns\n",
    "skus_warehouse_stock = sku_pu[['retailer_id','product_id','category','brand_name','sku_x','discount','packing_unit_id']].copy()\n",
    "# skus_warehouse_stock = skus_warehouse_stock.dropna()"
   ]
  },
  {
   "cell_type": "code",
   "execution_count": null,
   "id": "d6f6f6b2",
   "metadata": {},
   "outputs": [],
   "source": [
    "# drop duplicates\n",
    "skus_warehouse_stock =skus_warehouse_stock.sort_values(by=['retailer_id','product_id','packing_unit_id','discount'], ascending=[False,False,False,False])\n",
    "skus_warehouse_stock = skus_warehouse_stock.drop_duplicates(subset=['retailer_id','product_id','packing_unit_id'], keep='first')\n"
   ]
  },
  {
   "cell_type": "code",
   "execution_count": null,
   "id": "325050e2",
   "metadata": {},
   "outputs": [],
   "source": [
    "skus_warehouse_stock['retailer_id'].nunique()"
   ]
  },
  {
   "cell_type": "code",
   "execution_count": null,
   "id": "b80b2b50",
   "metadata": {},
   "outputs": [],
   "source": [
    "df.to_csv(dirr+'/ret-sku_list.csv',index=False)"
   ]
  },
  {
   "cell_type": "markdown",
   "id": "eeec1d32",
   "metadata": {},
   "source": [
    "# drop inactive retailers and inactive products"
   ]
  },
  {
   "cell_type": "code",
   "execution_count": null,
   "id": "feef1bbd",
   "metadata": {},
   "outputs": [],
   "source": [
    "# read not active retailers\n",
    "active = ret_metabase(22915)"
   ]
  },
  {
   "cell_type": "code",
   "execution_count": null,
   "id": "ef03b79c",
   "metadata": {},
   "outputs": [],
   "source": [
    "active"
   ]
  },
  {
   "cell_type": "code",
   "execution_count": null,
   "id": "874b9b79",
   "metadata": {},
   "outputs": [],
   "source": [
    "change_columns_type(active)"
   ]
  },
  {
   "cell_type": "code",
   "execution_count": null,
   "id": "1e767788",
   "metadata": {},
   "outputs": [],
   "source": [
    "#skus_warehouse_stock = skus_warehouse_stock[~skus_warehouse_stock['retailer_id'].isin(electronics['retailer_id'])]\n",
    "skus_warehouse_stock['retailer_id'] = skus_warehouse_stock['retailer_id'].apply(int)\n",
    "skus_warehouse_stock = skus_warehouse_stock[skus_warehouse_stock['retailer_id'].isin(active['retailer_id'])]"
   ]
  },
  {
   "cell_type": "code",
   "execution_count": null,
   "id": "dd96e3ca",
   "metadata": {},
   "outputs": [],
   "source": [
    "# drop duplicates values\n",
    "skus_warehouse_stock = skus_warehouse_stock.drop_duplicates()\n",
    "skus_warehouse_stock['retailer_id'].nunique()"
   ]
  },
  {
   "cell_type": "code",
   "execution_count": null,
   "id": "41f083d9",
   "metadata": {},
   "outputs": [],
   "source": [
    "skus_warehouse_stock=skus_warehouse_stock.rename(columns={'sku_x':'sku'})"
   ]
  },
  {
   "cell_type": "code",
   "execution_count": null,
   "id": "4f89547a",
   "metadata": {},
   "outputs": [],
   "source": [
    "print(len(skus_warehouse_stock))\n",
    "# drop any duolicated data\n",
    "skus_warehouse_stock = skus_warehouse_stock[['retailer_id','product_id','sku','category','brand_name','discount','packing_unit_id']].drop_duplicates()\n",
    "skus_warehouse_stock['retailer_id'] = skus_warehouse_stock['retailer_id'].apply(int)\n",
    "skus_warehouse_stock['product_id'] = skus_warehouse_stock['product_id'].apply(int)\n",
    "skus_warehouse_stock =skus_warehouse_stock.sort_values(by=['retailer_id','product_id','packing_unit_id','discount'], ascending=[False,False,False,False])\n",
    "skus_warehouse_stock = skus_warehouse_stock.drop_duplicates(subset=['retailer_id','product_id','packing_unit_id'], keep='first')\n",
    "print(len(skus_warehouse_stock))"
   ]
  },
  {
   "cell_type": "code",
   "execution_count": null,
   "id": "3ea71e14",
   "metadata": {},
   "outputs": [],
   "source": [
    "# active products\n",
    "active_prod = ret_metabase(28232)"
   ]
  },
  {
   "cell_type": "code",
   "execution_count": null,
   "id": "0bcf1568",
   "metadata": {},
   "outputs": [],
   "source": [
    "change_columns_type(active_prod)"
   ]
  },
  {
   "cell_type": "code",
   "execution_count": null,
   "id": "9b477ce7",
   "metadata": {},
   "outputs": [],
   "source": [
    "# drop inactive products\n",
    "skus_warehouse_stock = skus_warehouse_stock[skus_warehouse_stock['product_id'].isin(active_prod['product_id'])]"
   ]
  },
  {
   "cell_type": "code",
   "execution_count": null,
   "id": "46919cce",
   "metadata": {},
   "outputs": [],
   "source": [
    "skus_warehouse_stock"
   ]
  },
  {
   "cell_type": "code",
   "execution_count": null,
   "id": "5fb72dab",
   "metadata": {},
   "outputs": [],
   "source": []
  },
  {
   "cell_type": "code",
   "execution_count": null,
   "id": "f565cbc5",
   "metadata": {},
   "outputs": [],
   "source": [
    "dist_ret_sku=skus_warehouse_stock.copy()"
   ]
  },
  {
   "cell_type": "markdown",
   "id": "66188742",
   "metadata": {},
   "source": [
    "# Upload format"
   ]
  },
  {
   "cell_type": "code",
   "execution_count": null,
   "id": "4885ed93",
   "metadata": {},
   "outputs": [],
   "source": [
    "#round the discount to 2 decimals\n",
    "skus_warehouse_stock['discount'] = skus_warehouse_stock['discount'].round(3)\n"
   ]
  },
  {
   "cell_type": "code",
   "execution_count": null,
   "id": "d7705695",
   "metadata": {},
   "outputs": [],
   "source": [
    "skus_warehouse_stock = skus_warehouse_stock.merge(ret_warehouse,on='retailer_id')"
   ]
  },
  {
   "cell_type": "code",
   "execution_count": null,
   "id": "25ba8703",
   "metadata": {},
   "outputs": [],
   "source": [
    "#skus_warehouse_stock=skus_warehouse_stock[(skus_warehouse_stock['category']!='حاجه ساقعه' )]"
   ]
  },
  {
   "cell_type": "code",
   "execution_count": null,
   "id": "5893d2b1",
   "metadata": {},
   "outputs": [],
   "source": [
    "skus_warehouse_stock=skus_warehouse_stock[['retailer_id','product_id','sku','category','brand_name','discount','packing_unit_id']].drop_duplicates()"
   ]
  },
  {
   "cell_type": "markdown",
   "id": "90aea043",
   "metadata": {},
   "source": [
    "## Price ups"
   ]
  },
  {
   "cell_type": "code",
   "execution_count": null,
   "id": "f5955e75",
   "metadata": {},
   "outputs": [],
   "source": [
    "price_up = ret_metabase(57178)\n",
    "price_up = change_columns_type(price_up)"
   ]
  },
  {
   "cell_type": "code",
   "execution_count": null,
   "id": "b399a9a6",
   "metadata": {},
   "outputs": [],
   "source": [
    "price_up_final = price_up[['sku_id','brand','sku','price_up_date','new_pp','wac1']]\n",
    "price_up_final['price_up_date'] = pd.to_datetime(price_up_final['price_up_date'])\n",
    "price_up_final['days'] = (price_up_final['price_up_date'] - datetime.now()).dt.days\n",
    "price_up_final['diff_bet_wac'] = price_up_final['new_pp'] - price_up_final['wac1']"
   ]
  },
  {
   "cell_type": "code",
   "execution_count": null,
   "id": "0bb03ca2",
   "metadata": {},
   "outputs": [],
   "source": [
    "conditions = [\n",
    "    (price_up_final['days'].between(-1, 3)),\n",
    "    (price_up_final['days'].between(-3, -2) & (price_up_final['diff_bet_wac'] > 0)),\n",
    "    (price_up_final['days'].between(-3, -2) & (price_up_final['diff_bet_wac'] < 0))\n",
    "]\n",
    "\n",
    "choices = [\n",
    "    'within 3 days',\n",
    "    '2-3 days ago - remove',\n",
    "    '2-3 days ago - push'\n",
    "]\n",
    "\n",
    "price_up_final['status'] = np.select(conditions, choices, default='good')\n",
    "price_up_final = price_up_final[price_up_final['status'].isin(['within 3 days','2-3 days ago - remove'])]"
   ]
  },
  {
   "cell_type": "code",
   "execution_count": null,
   "id": "054bbdc6",
   "metadata": {},
   "outputs": [],
   "source": [
    "skus_warehouse_stock = skus_warehouse_stock[~skus_warehouse_stock['product_id'].isin(price_up_final['sku_id'])]"
   ]
  },
  {
   "cell_type": "markdown",
   "id": "4f7a4cba",
   "metadata": {},
   "source": [
    "## ------------------------------------------------------------------------------------"
   ]
  },
  {
   "cell_type": "code",
   "execution_count": null,
   "id": "b6230adf",
   "metadata": {},
   "outputs": [],
   "source": [
    "# #set rows with product_id = 1176 and 1177 to discount = 1.5             @mai and magdy edit here\n",
    "skus_warehouse_stock.loc[skus_warehouse_stock['product_id']==305,'discount'] =0.5  # beity\n",
    "skus_warehouse_stock.loc[skus_warehouse_stock['product_id']==307,'discount'] =0.5  # beity\n",
    "skus_warehouse_stock.loc[skus_warehouse_stock['product_id']==143,'discount'] =0.5  # beity\n",
    "skus_warehouse_stock.loc[skus_warehouse_stock['product_id']==144,'discount'] =0.5  # beity\n",
    "skus_warehouse_stock.loc[skus_warehouse_stock['product_id']==145,'discount'] =0.5  # beity\n",
    "skus_warehouse_stock.loc[skus_warehouse_stock['product_id']==146,'discount'] =0.5  # beity\n",
    "skus_warehouse_stock.loc[skus_warehouse_stock['product_id']==11507,'discount'] =0.5  # beity\n",
    "skus_warehouse_stock.loc[skus_warehouse_stock['product_id']==3,'discount'] =1  # haboba\n",
    "skus_warehouse_stock.loc[skus_warehouse_stock['product_id']==23,'discount'] =1  # haboba\n",
    "skus_warehouse_stock.loc[skus_warehouse_stock['product_id']==1776,'discount'] =1  # best\n",
    "skus_warehouse_stock.loc[skus_warehouse_stock['product_id']==1777,'discount'] =1  # best\n",
    "skus_warehouse_stock.loc[skus_warehouse_stock['product_id']==5151,'discount'] = 0.5 # redbull\n",
    "skus_warehouse_stock.loc[skus_warehouse_stock['product_id']==7885,'discount'] = 1 # 3arosa\n",
    "skus_warehouse_stock.loc[skus_warehouse_stock['product_id']==7886,'discount'] = 1 # 3arosa\n",
    "skus_warehouse_stock.loc[skus_warehouse_stock['product_id']==10825,'discount'] = 1 # 3arosa\n",
    "\n",
    "skus_warehouse_stock.loc[skus_warehouse_stock['product_id']==130,'discount'] = 0.5 #  bekhero 0.5\n",
    "skus_warehouse_stock.loc[skus_warehouse_stock['product_id']==151,'discount'] = 0.5 # bekhero 1L\n",
    "\n",
    "skus_warehouse_stock.loc[skus_warehouse_stock['product_id']==5165,'discount'] = 1 # sofy\n",
    "skus_warehouse_stock.loc[skus_warehouse_stock['product_id']==9507,'discount'] = 1 # heinz 16 gm\n",
    "skus_warehouse_stock.loc[skus_warehouse_stock['product_id']==10529,'discount'] = 1 # bebem\n",
    "skus_warehouse_stock.loc[skus_warehouse_stock['product_id']==12979,'discount'] = 1 # always\n",
    "skus_warehouse_stock.loc[skus_warehouse_stock['product_id']==159,'discount'] = 1 # knor\n",
    "skus_warehouse_stock.loc[skus_warehouse_stock['product_id']==6098,'discount'] = 1 \n",
    "skus_warehouse_stock.loc[skus_warehouse_stock['product_id']==6097,'discount'] = 1 \n",
    "skus_warehouse_stock.loc[skus_warehouse_stock['product_id']==83,'discount'] = 0.75 #obourland\n",
    "skus_warehouse_stock.loc[skus_warehouse_stock['product_id']==439,'discount'] = 1 \n",
    "\n",
    "skus_warehouse_stock.loc[skus_warehouse_stock['product_id']==2424,'discount'] = 0.75\n",
    "\n",
    "\n",
    "\n",
    "\n",
    "# skus_warehouse_stock.loc[skus_warehouse_stock['product_id']==13028,'discount'] = 0.5 #larsh\n",
    "# skus_warehouse_stock.loc[skus_warehouse_stock['product_id']==10825,'discount'] = 1 #haircode\n",
    "# skus_warehouse_stock.loc[skus_warehouse_stock['product_id']==159,'discount'] = 1 #fine foods\n",
    "# skus_warehouse_stock.loc[skus_warehouse_stock['product_id']==12979,'discount'] = 1 #always maxi\n",
    "# skus_warehouse_stock.loc[skus_warehouse_stock['product_id']==161,'discount'] = 1 #maggi\n",
    "# skus_warehouse_stock.loc[skus_warehouse_stock['product_id']==11671,'discount'] = 1 #oxi\n",
    "# skus_warehouse_stock.loc[skus_warehouse_stock['product_id']==10529,'discount'] = 1 # bi bim \n",
    "# skus_warehouse_stock.loc[skus_warehouse_stock['product_id']==9507,'discount'] = 1 # heinz\n",
    "# skus_warehouse_stock.loc[skus_warehouse_stock['product_id']==12224,'discount'] = 1 # indomie\n",
    "\n",
    "# #Remove SKUs\n",
    "# skus_warehouse_stock = skus_warehouse_stock[skus_warehouse_stock['product_id']!=248 ]# juhayna\n",
    "# skus_warehouse_stock = skus_warehouse_stock[skus_warehouse_stock['product_id']!=409]# juhayna\n",
    "skus_warehouse_stock = skus_warehouse_stock[skus_warehouse_stock['product_id']!=11827] # scratch cards\n",
    "skus_warehouse_stock = skus_warehouse_stock[skus_warehouse_stock['product_id']!=11922] # scratch cards\n",
    "skus_warehouse_stock = skus_warehouse_stock[skus_warehouse_stock['product_id']!=11923] # scratch cards\n",
    "#skus_warehouse_stock = skus_warehouse_stock[skus_warehouse_stock['product_id']!=5151] # redbull\n",
    "skus_warehouse_stock = skus_warehouse_stock[skus_warehouse_stock['product_id']!=431] # shahd sokkar\n",
    "skus_warehouse_stock = skus_warehouse_stock[skus_warehouse_stock['product_id']!=12979] #always\n",
    "\n",
    "\n",
    "skus_warehouse_stock = skus_warehouse_stock[skus_warehouse_stock['product_id']!=7885] #3arosa\n",
    "skus_warehouse_stock = skus_warehouse_stock[skus_warehouse_stock['product_id']!=7886] #3arosa\n",
    "skus_warehouse_stock = skus_warehouse_stock[skus_warehouse_stock['product_id']!=10825] #3arosa\n",
    "skus_warehouse_stock = skus_warehouse_stock[skus_warehouse_stock['product_id']!=326] #pepsi star\n",
    "\n",
    "\n",
    "# skus_warehouse_stock = skus_warehouse_stock[skus_warehouse_stock['product_id']!=13028] # larsh\n",
    "\n",
    "\n",
    "\n",
    "# #Brands\n",
    "skus_warehouse_stock.loc[skus_warehouse_stock['brand_name']=='سوفي','discount']= 1\n",
    "# skus_warehouse_stock.loc[skus_warehouse_stock['brand_name'] == 'تانج', 'discount']=0.75\n",
    "skus_warehouse_stock.loc[skus_warehouse_stock['brand_name']=='فيوري','discount']=0.5\n",
    "\n",
    "skus_warehouse_stock.loc[skus_warehouse_stock['brand_name']=='اندومي','discount']=1\n",
    "\n",
    "skus_warehouse_stock.loc[skus_warehouse_stock['brand_name']=='بيبسي','discount']=1\n",
    "\n",
    "\n",
    "\n",
    "# skus_warehouse_stock = skus_warehouse_stock[skus_warehouse_stock['brand_name']!= 'اندومي']\n",
    "skus_warehouse_stock = skus_warehouse_stock[skus_warehouse_stock['brand_name']!= 'فيوري']\n",
    "\n",
    "\n",
    "\n"
   ]
  },
  {
   "cell_type": "code",
   "execution_count": null,
   "id": "6c51fc6b",
   "metadata": {},
   "outputs": [],
   "source": [
    "#set packing_unit_id to int\n",
    "skus_warehouse_stock['packing_unit_id'] = skus_warehouse_stock['packing_unit_id'].apply(int)"
   ]
  },
  {
   "cell_type": "code",
   "execution_count": null,
   "id": "1f1860d6",
   "metadata": {},
   "outputs": [],
   "source": [
    "#join skus_warehouse_stock with maxab_price on product_id\n",
    "skus_warehouse_stock = pd.merge(skus_warehouse_stock, maxab_price, on='product_id', how='left')\n",
    "\n",
    "#join skus_warehouse_stock with sku_constraints on product_id keeping only min_price\n",
    "skus_warehouse_stock = pd.merge(skus_warehouse_stock, sku_constraints[['product_id','min_price']], on='product_id', how='left')\n",
    "\n",
    "#remove rows with maxab_price = min_price\n",
    "skus_warehouse_stock = skus_warehouse_stock[skus_warehouse_stock['maxab_price']!=skus_warehouse_stock['min_price']]\n",
    "\n",
    "# add new column 'price after discount' = maxab_price * (100 - discount)%\n",
    "skus_warehouse_stock['price_after_discount'] = skus_warehouse_stock['maxab_price']*(1-skus_warehouse_stock['discount']/100)\n",
    "\n",
    "#add new coulmn 'discount with constraints' = (maxab_price - min_price) / maxab_price * 100\n",
    "skus_warehouse_stock['discount_with_constraints'] = ((skus_warehouse_stock['maxab_price']-skus_warehouse_stock['min_price'])/skus_warehouse_stock['maxab_price'])*100\n",
    "\n",
    "# in a new df keep only rows where price_after_discount < min_price then set discount\n",
    "modif_skus = skus_warehouse_stock[skus_warehouse_stock['price_after_discount']<skus_warehouse_stock['min_price']]\n",
    "\n",
    "# remove skus with discount with constraints < 0.5\n",
    "excluded_skus =skus_warehouse_stock[skus_warehouse_stock['discount_with_constraints']<0.5]\n",
    "skus_warehouse_stock = skus_warehouse_stock[~skus_warehouse_stock['product_id'].isin(excluded_skus['product_id'])]\n",
    "# #if price_after_discount < min_price then set discount =  discount with constraints else keep discount\n",
    "skus_warehouse_stock['discount'] = np.where(skus_warehouse_stock['price_after_discount']<skus_warehouse_stock['min_price'],skus_warehouse_stock['discount_with_constraints'],skus_warehouse_stock['discount'])                                  "
   ]
  },
  {
   "cell_type": "code",
   "execution_count": null,
   "id": "68756a57",
   "metadata": {},
   "outputs": [],
   "source": [
    "skus_warehouse_stock['discount'] = skus_warehouse_stock['discount'].round(2)"
   ]
  },
  {
   "cell_type": "code",
   "execution_count": null,
   "id": "3b8d727b",
   "metadata": {},
   "outputs": [],
   "source": [
    "#check for unique porudct_id\n",
    "skus_warehouse_stock['product_id'].nunique()"
   ]
  },
  {
   "cell_type": "code",
   "execution_count": null,
   "id": "cbe64fa1",
   "metadata": {},
   "outputs": [],
   "source": [
    "#count unique products per retailer_id and sort desc\n",
    "skus_warehouse_stock['retailer_id'].value_counts().sort_values(ascending=False)"
   ]
  },
  {
   "cell_type": "code",
   "execution_count": null,
   "id": "8bb40cd1",
   "metadata": {},
   "outputs": [],
   "source": [
    "retailer_counts = skus_warehouse_stock['retailer_id'].value_counts()\n",
    "valid_retailers = retailer_counts[retailer_counts > 10].index\n",
    "skus_warehouse_stock = skus_warehouse_stock[skus_warehouse_stock['retailer_id'].isin(valid_retailers)]"
   ]
  },
  {
   "cell_type": "code",
   "execution_count": null,
   "id": "b58270cc",
   "metadata": {},
   "outputs": [],
   "source": [
    "# round discount to 3 decimals\n",
    "skus_warehouse_stock['discount'] = skus_warehouse_stock['discount'].round(3)\n",
    "skus_warehouse_stock"
   ]
  },
  {
   "cell_type": "code",
   "execution_count": null,
   "id": "9315e09a",
   "metadata": {},
   "outputs": [],
   "source": [
    "#drop rowss with null discount\n",
    "skus_warehouse_stock = skus_warehouse_stock[skus_warehouse_stock['discount'].notnull()]"
   ]
  },
  {
   "cell_type": "code",
   "execution_count": null,
   "id": "74e49a6a",
   "metadata": {},
   "outputs": [],
   "source": [
    "count_check=skus_warehouse_stock.copy()\n",
    "count_skus = count_check.groupby(['product_id','sku_x']).agg({'retailer_id':'count','discount':'mean'}).reset_index()"
   ]
  },
  {
   "cell_type": "code",
   "execution_count": null,
   "id": "a27644a0",
   "metadata": {},
   "outputs": [],
   "source": [
    "count_skus.to_excel(dirr+'/count_skus.xlsx',index=False)"
   ]
  },
  {
   "cell_type": "code",
   "execution_count": null,
   "id": "25a6e33b",
   "metadata": {},
   "outputs": [],
   "source": [
    "# drop nan values\n",
    "final_2 = skus_warehouse_stock\n",
    "# concat product id, packing unit id and discount in one column\n",
    "final_2['Discounts'] = '['+final_2['product_id'].astype(str)+','+final_2['packing_unit_id'].astype(str)+','+final_2['discount'].astype(str)+']'"
   ]
  },
  {
   "cell_type": "code",
   "execution_count": null,
   "id": "9343f99d",
   "metadata": {},
   "outputs": [],
   "source": [
    "skus_warehouse_stock['product_id'].nunique()"
   ]
  },
  {
   "cell_type": "code",
   "execution_count": null,
   "id": "23075252",
   "metadata": {},
   "outputs": [],
   "source": [
    "SKU_discount_grouped = skus_warehouse_stock\n",
    "SKU_discount_grouped['HH_data'] = '['+(SKU_discount_grouped['product_id']).astype(str)+','+(SKU_discount_grouped['packing_unit_id']).astype(str)+','+(SKU_discount_grouped['discount']).astype(str)+']'"
   ]
  },
  {
   "cell_type": "code",
   "execution_count": null,
   "id": "2c5ca800",
   "metadata": {},
   "outputs": [],
   "source": [
    "SKU_discount_grouped['product_id'].nunique()"
   ]
  },
  {
   "cell_type": "code",
   "execution_count": null,
   "id": "4a05da13",
   "metadata": {},
   "outputs": [],
   "source": [
    "# set a list of all retailers products\n",
    "SKU_discount_grouped  = SKU_discount_grouped.groupby('retailer_id')['HH_data'].apply(list).reset_index()\n",
    "SKU_discount_grouped['Discounts']= SKU_discount_grouped['HH_data'].astype(str).str.replace(\"'\",'').str.replace(' ','')\n",
    "# group common retailers for each group skus\n",
    "SKU_discount_grouped = SKU_discount_grouped.groupby('Discounts')['retailer_id'].agg(list).reset_index()"
   ]
  },
  {
   "cell_type": "code",
   "execution_count": null,
   "id": "f399412f",
   "metadata": {},
   "outputs": [],
   "source": [
    "final_2 = SKU_discount_grouped.copy()"
   ]
  },
  {
   "cell_type": "code",
   "execution_count": null,
   "id": "efb614f0",
   "metadata": {},
   "outputs": [],
   "source": [
    "final_2['Arabic Offer Name']= 'خصوماتك الخاصة'"
   ]
  },
  {
   "cell_type": "markdown",
   "id": "b18fb653",
   "metadata": {},
   "source": [
    "# Add Date ***"
   ]
  },
  {
   "cell_type": "code",
   "execution_count": null,
   "id": "888c5080",
   "metadata": {},
   "outputs": [],
   "source": [
    "# Add Happy Hours Start and End time\n",
    "final_2['Start Date/Time'] = '27/05/2025 12:10'\n",
    "final_2['End Date/Time'] = '27/05/2025 13:59'"
   ]
  },
  {
   "cell_type": "code",
   "execution_count": null,
   "id": "a49615a4",
   "metadata": {},
   "outputs": [],
   "source": [
    "final_2 = final_2[['retailer_id','Start Date/Time','End Date/Time','Discounts','Arabic Offer Name']]\n",
    "final_2['French Offer Name']=np.nan\n",
    "final_2['English Offer Name']=np.nan"
   ]
  },
  {
   "cell_type": "code",
   "execution_count": null,
   "id": "c969b217",
   "metadata": {},
   "outputs": [],
   "source": [
    "final_2"
   ]
  },
  {
   "cell_type": "code",
   "execution_count": null,
   "id": "06c333d2",
   "metadata": {},
   "outputs": [],
   "source": [
    "# set retailers to 100 per row\n",
    "data = []\n",
    "for i,row in final_2.iterrows():\n",
    "    \n",
    "    start_date = row['Start Date/Time']\n",
    "    end_date = row['End Date/Time']\n",
    "    retailers = row['retailer_id']\n",
    "    discount = row['Discounts']\n",
    "    name = row['Arabic Offer Name'] \n",
    "    name_f = row['French Offer Name'] \n",
    "    name_e = row['English Offer Name'] \n",
    "    \n",
    "    length = len(retailers)\n",
    "    if(length>100):\n",
    "        iters = length//100\n",
    "        remaining = length%100\n",
    "        for j in range(0,iters+1):\n",
    "            if(j<=iters):\n",
    "                start = (j*100)\n",
    "                end = (j+1)*100\n",
    "                rets = retailers[start:end]\n",
    "                data.append({'Discounts':discount,'retailer_id':rets,'Start Date/Time':start_date,'End Date/Time':end_date\n",
    "                            ,'Arabic Offer Name':name,'French Offer Name':name_f,'English Offer Name':name_e})\n",
    "            else:\n",
    "                print(\"else new\")\n",
    "            \n",
    "    else:\n",
    "        data.append({'Discounts':discount,'retailer_id':retailers,'Start Date/Time':start_date,'End Date/Time':end_date\n",
    "                            ,'Arabic Offer Name':name,'French Offer Name':name_f,'English Offer Name':name_e})\n",
    "        \n",
    "dfx = pd.DataFrame(data)\n",
    "dfx"
   ]
  },
  {
   "cell_type": "code",
   "execution_count": null,
   "id": "eae3aba3",
   "metadata": {},
   "outputs": [],
   "source": [
    "dfx.columns"
   ]
  },
  {
   "cell_type": "code",
   "execution_count": null,
   "id": "3d9f67ae",
   "metadata": {},
   "outputs": [],
   "source": [
    "dfx['English Offer Name'] = 'Special Discounts'\n",
    "dfx['Swahili Offer Name'] = ''\n",
    "dfx['Rwandan Offer Name'] = ''"
   ]
  },
  {
   "cell_type": "code",
   "execution_count": null,
   "id": "515b8751",
   "metadata": {},
   "outputs": [],
   "source": [
    "dfx"
   ]
  },
  {
   "cell_type": "code",
   "execution_count": null,
   "id": "af6eb0f9",
   "metadata": {},
   "outputs": [],
   "source": [
    "#change column name retailer_id to Retailers List\n",
    "dfx.rename(columns={'retailer_id': 'Retailers List'}, inplace=True)"
   ]
  },
  {
   "cell_type": "code",
   "execution_count": null,
   "id": "3fbcd749",
   "metadata": {},
   "outputs": [],
   "source": [
    "dfx = dfx[['Retailers List','Start Date/Time','End Date/Time','Discounts','Arabic Offer Name','French Offer Name','English Offer Name','Swahili Offer Name','Rwandan Offer Name']]\n",
    "# 500 row per sheet \n",
    "final=dfx.reset_index().drop(columns='index')\n",
    "mino=final.index.min()\n",
    "maxo=final.index.max()\n",
    "ran = [i for i in range(mino,maxo,1000)]\n",
    "for i in tqdm(range(len(ran))):\n",
    "    if i+1 == len(ran):\n",
    "        val1 = ran[i]\n",
    "        val2 = maxo\n",
    "    else:\n",
    "        val1 = ran[i]\n",
    "        val2 = ran[i+1] - 1\n",
    "    x=final.loc[val1:val2,:]\n",
    "    x.to_excel(dirr+'/o_happy_hour_{0}.xlsx'.format(i),index=False)"
   ]
  },
  {
   "cell_type": "code",
   "execution_count": null,
   "id": "2a1804b5",
   "metadata": {},
   "outputs": [],
   "source": [
    "dfx"
   ]
  },
  {
   "cell_type": "markdown",
   "id": "62ca8179",
   "metadata": {},
   "source": [
    "# WonderPush"
   ]
  },
  {
   "cell_type": "code",
   "execution_count": null,
   "id": "8faa6904",
   "metadata": {},
   "outputs": [],
   "source": [
    "air1 =skus_warehouse_stock['retailer_id'].drop_duplicates().reset_index()\n",
    "air1 = air1[['retailer_id']]\n",
    "air_list=pd.DataFrame()\n",
    "air_list['retailers']=air1['retailer_id']\n",
    "air_list['retailers']='EG_retailers_'+air1['retailer_id'].apply(int).apply(str)\n",
    "air_list['named_user']='named_user'\n",
    "air_list=air_list[['named_user','retailers']]\n",
    "air_list.to_csv(dirr+'/HH_airship_ret.csv', header=False,index=False,encoding='utf-8')\n"
   ]
  },
  {
   "cell_type": "code",
   "execution_count": null,
   "id": "87d9c3ea",
   "metadata": {},
   "outputs": [],
   "source": []
  }
 ],
 "metadata": {
  "kernelspec": {
   "display_name": "conda_python3",
   "language": "python",
   "name": "conda_python3"
  },
  "language_info": {
   "codemirror_mode": {
    "name": "ipython",
    "version": 3
   },
   "file_extension": ".py",
   "mimetype": "text/x-python",
   "name": "python",
   "nbconvert_exporter": "python",
   "pygments_lexer": "ipython3",
   "version": "3.10.18"
  }
 },
 "nbformat": 4,
 "nbformat_minor": 5
}
